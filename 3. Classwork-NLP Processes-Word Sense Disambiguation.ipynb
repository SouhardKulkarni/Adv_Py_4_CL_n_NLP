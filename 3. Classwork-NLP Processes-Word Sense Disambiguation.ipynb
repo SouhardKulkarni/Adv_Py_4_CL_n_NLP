{
 "cells": [
  {
   "cell_type": "code",
   "execution_count": null,
   "id": "15292766",
   "metadata": {},
   "outputs": [],
   "source": [
    "# Name: Souhard Kulkarni      Enrolment number: 14"
   ]
  },
  {
   "cell_type": "code",
   "execution_count": 1,
   "id": "4bb1c294",
   "metadata": {},
   "outputs": [
    {
     "name": "stderr",
     "output_type": "stream",
     "text": [
      "C:\\Users\\souha\\anaconda3\\lib\\site-packages\\scipy\\__init__.py:146: UserWarning: A NumPy version >=1.16.5 and <1.23.0 is required for this version of SciPy (detected version 1.26.4\n",
      "  warnings.warn(f\"A NumPy version >={np_minversion} and <{np_maxversion}\"\n"
     ]
    }
   ],
   "source": [
    "import nltk"
   ]
  },
  {
   "cell_type": "code",
   "execution_count": 2,
   "id": "24ab6669",
   "metadata": {},
   "outputs": [
    {
     "name": "stderr",
     "output_type": "stream",
     "text": [
      "[nltk_data] Downloading package wordnet to\n",
      "[nltk_data]     C:\\Users\\souha\\AppData\\Roaming\\nltk_data...\n",
      "[nltk_data]   Package wordnet is already up-to-date!\n"
     ]
    },
    {
     "data": {
      "text/plain": [
       "True"
      ]
     },
     "execution_count": 2,
     "metadata": {},
     "output_type": "execute_result"
    }
   ],
   "source": [
    "nltk.download(\"wordnet\")"
   ]
  },
  {
   "cell_type": "code",
   "execution_count": 3,
   "id": "d7dc2b62",
   "metadata": {},
   "outputs": [],
   "source": [
    "from nltk.corpus import wordnet"
   ]
  },
  {
   "cell_type": "code",
   "execution_count": 4,
   "id": "584c6614",
   "metadata": {},
   "outputs": [],
   "source": [
    "x = wordnet.synsets(\"create\")"
   ]
  },
  {
   "cell_type": "code",
   "execution_count": 5,
   "id": "b7af31a8",
   "metadata": {},
   "outputs": [
    {
     "data": {
      "text/plain": [
       "[Synset('make.v.03'),\n",
       " Synset('create.v.02'),\n",
       " Synset('create.v.03'),\n",
       " Synset('create.v.04'),\n",
       " Synset('create.v.05'),\n",
       " Synset('produce.v.02')]"
      ]
     },
     "execution_count": 5,
     "metadata": {},
     "output_type": "execute_result"
    }
   ],
   "source": [
    "x"
   ]
  },
  {
   "cell_type": "code",
   "execution_count": 6,
   "id": "07881004",
   "metadata": {},
   "outputs": [
    {
     "data": {
      "text/plain": [
       "'make.v.03'"
      ]
     },
     "execution_count": 6,
     "metadata": {},
     "output_type": "execute_result"
    }
   ],
   "source": [
    "x[0].name()"
   ]
  },
  {
   "cell_type": "code",
   "execution_count": 7,
   "id": "23a641c6",
   "metadata": {},
   "outputs": [
    {
     "data": {
      "text/plain": [
       "'make or cause to be or to become'"
      ]
     },
     "execution_count": 7,
     "metadata": {},
     "output_type": "execute_result"
    }
   ],
   "source": [
    "x[0].definition()"
   ]
  },
  {
   "cell_type": "code",
   "execution_count": 8,
   "id": "5f99c332",
   "metadata": {},
   "outputs": [
    {
     "name": "stdout",
     "output_type": "stream",
     "text": [
      "make.v.03 : make or cause to be or to become\n",
      "create.v.02 : bring into existence\n",
      "create.v.03 : pursue a creative activity; be engaged in a creative activity\n",
      "create.v.04 : invest with a new title, office, or rank\n",
      "create.v.05 : create by artistic means\n",
      "produce.v.02 : create or manufacture a man-made product\n"
     ]
    }
   ],
   "source": [
    "for word in x:\n",
    "    print(word.name(), \":\", word.definition())"
   ]
  },
  {
   "cell_type": "code",
   "execution_count": 9,
   "id": "863ff9fc",
   "metadata": {},
   "outputs": [
    {
     "name": "stdout",
     "output_type": "stream",
     "text": [
      "post.n.01 : the position where someone (as a guard or sentry) stands or is assigned to stand\n",
      "military_post.n.01 : military installation at which a body of troops is stationed\n",
      "position.n.06 : a job in an organization\n",
      "post.n.04 : an upright consisting of a piece of timber or metal fixed firmly in an upright position\n",
      "post.n.05 : United States aviator who in 1933 made the first solo flight around the world (1899-1935)\n",
      "post.n.06 : United States female author who wrote a book and a syndicated newspaper column on etiquette (1872-1960)\n",
      "post.n.07 : United States manufacturer of breakfast cereals and Postum (1854-1914)\n",
      "mail.n.04 : any particular collection of letters or packages that is delivered\n",
      "post.n.09 : a pole or stake set up to mark something (as the start or end of a race track)\n",
      "mail.n.02 : the system whereby messages are transmitted via the post office\n",
      "post.n.11 : the delivery and collection of letters and packages\n",
      "post.v.01 : affix in a public place or for public notice\n",
      "post.v.02 : publicize with, or as if with, a poster\n",
      "post.v.03 : assign to a post; put into a post\n",
      "station.v.01 : assign to a station\n",
      "post.v.05 : display, as of records in sports games\n",
      "post.v.06 : enter on a public list\n",
      "post.v.07 : transfer (entries) from one account book to another\n",
      "post.v.08 : ride Western style and bob up and down in the saddle in rhythm with a horse's trotting gait\n",
      "stake.v.03 : mark with a stake\n",
      "post.v.10 : place so as to be noticed\n",
      "mail.v.02 : cause to be directed or transmitted to another place\n",
      "post.v.12 : mark or expose as infamous\n"
     ]
    }
   ],
   "source": [
    "x = wordnet.synsets(\"post\")\n",
    "for word in x:\n",
    "    print(word.name(), \":\", word.definition())"
   ]
  },
  {
   "cell_type": "code",
   "execution_count": 10,
   "id": "995d652f",
   "metadata": {},
   "outputs": [
    {
     "name": "stdout",
     "output_type": "stream",
     "text": [
      "post.n.01 : [Synset('position.n.01')]\n",
      "military_post.n.01 : [Synset('military_installation.n.01')]\n",
      "position.n.06 : [Synset('occupation.n.01')]\n",
      "post.n.04 : [Synset('upright.n.01')]\n",
      "post.n.05 : []\n",
      "post.n.06 : []\n",
      "post.n.07 : []\n",
      "mail.n.04 : [Synset('collection.n.01')]\n",
      "post.n.09 : [Synset('visual_signal.n.01')]\n",
      "mail.n.02 : [Synset('communication.n.01')]\n",
      "post.n.11 : [Synset('delivery.n.01')]\n",
      "post.v.01 : [Synset('affix.v.01')]\n",
      "post.v.02 : [Synset('announce.v.01')]\n",
      "post.v.03 : [Synset('delegate.v.02')]\n",
      "station.v.01 : [Synset('move.v.02')]\n",
      "post.v.05 : [Synset('record.v.01')]\n",
      "post.v.06 : [Synset('list.v.02')]\n",
      "post.v.07 : [Synset('transfer.v.02')]\n",
      "post.v.08 : [Synset('ride_horseback.v.01')]\n",
      "stake.v.03 : [Synset('mark.v.05')]\n",
      "post.v.10 : [Synset('install.v.01')]\n",
      "mail.v.02 : [Synset('transfer.v.02')]\n",
      "post.v.12 : [Synset('call.v.02')]\n"
     ]
    }
   ],
   "source": [
    "for word in x:\n",
    "    print(word.name(), \":\", word.hypernyms())"
   ]
  },
  {
   "cell_type": "code",
   "execution_count": 13,
   "id": "4185602b",
   "metadata": {},
   "outputs": [
    {
     "name": "stdout",
     "output_type": "stream",
     "text": [
      "post.n.01 : [Synset('bridgehead.n.02'), Synset('lookout.n.02'), Synset('outstation.n.01')]\n",
      "\n",
      "\n",
      "military_post.n.01 : [Synset('garrison.n.01'), Synset('outpost.n.03')]\n",
      "\n",
      "\n",
      "position.n.06 : [Synset('academicianship.n.01'), Synset('accountantship.n.01'), Synset('admiralty.n.02'), Synset('ambassadorship.n.01'), Synset('apostleship.n.01'), Synset('apprenticeship.n.01'), Synset('associateship.n.01'), Synset('attorneyship.n.01'), Synset('bailiffship.n.01'), Synset('baronetage.n.02'), Synset('bishopry.n.01'), Synset('cadetship.n.01'), Synset('caliphate.n.03'), Synset('captainship.n.01'), Synset('cardinalship.n.01'), Synset('chairmanship.n.01'), Synset('chancellorship.n.01'), Synset('chaplaincy.n.01'), Synset('chieftaincy.n.01'), Synset('clerkship.n.01'), Synset('commandership.n.01'), Synset('comptrollership.n.01'), Synset('consulship.n.01'), Synset('controllership.n.01'), Synset('councillorship.n.01'), Synset('counselorship.n.01'), Synset('curacy.n.01'), Synset('curatorship.n.01'), Synset('custodianship.n.01'), Synset('deanship.n.01'), Synset('directorship.n.01'), Synset('discipleship.n.01'), Synset('editorship.n.01'), Synset('eldership.n.01'), Synset('emirate.n.02'), Synset('fatherhood.n.03'), Synset('fatherhood.n.04'), Synset('foremanship.n.01'), Synset('generalship.n.02'), Synset('governorship.n.01'), Synset('headship.n.01'), Synset('headship.n.02'), Synset('hot_seat.n.02'), Synset('incumbency.n.03'), Synset('inspectorship.n.01'), Synset('instructorship.n.01'), Synset('internship.n.01'), Synset('judgeship.n.01'), Synset('khanate.n.02'), Synset('lectureship.n.01'), Synset('legation.n.01'), Synset('legislatorship.n.01'), Synset('librarianship.n.01'), Synset('lieutenancy.n.01'), Synset('magistracy.n.01'), Synset('managership.n.01'), Synset('manhood.n.03'), Synset('marshalship.n.01'), Synset('mastership.n.02'), Synset('mayoralty.n.01'), Synset('messiahship.n.01'), Synset('moderatorship.n.01'), Synset('overlordship.n.01'), Synset('pastorship.n.01'), Synset('peasanthood.n.01'), Synset('plum.n.03'), Synset('praetorship.n.01'), Synset('precentorship.n.01'), Synset('preceptorship.n.01'), Synset('prefecture.n.02'), Synset('prelacy.n.02'), Synset('premiership.n.01'), Synset('presidency.n.02'), Synset('primateship.n.01'), Synset('principalship.n.01'), Synset('priorship.n.01'), Synset('proconsulship.n.01'), Synset('proctorship.n.01'), Synset('professorship.n.01'), Synset('protectorship.n.01'), Synset('public_office.n.01'), Synset('rabbinate.n.02'), Synset('receivership.n.03'), Synset('rectorship.n.01'), Synset('regency.n.03'), Synset('residency.n.02'), Synset('rulership.n.01'), Synset('sainthood.n.02'), Synset('secretaryship.n.01'), Synset('seigniory.n.02'), Synset('senatorship.n.01'), Synset('sinecure.n.02'), Synset('solicitorship.n.01'), Synset('speakership.n.01'), Synset('stewardship.n.01'), Synset('studentship.n.01'), Synset('teachership.n.01'), Synset('thaneship.n.01'), Synset('throne.n.03'), Synset('treasurership.n.01'), Synset('tribuneship.n.01'), Synset('trusteeship.n.02'), Synset('vice-presidency.n.02'), Synset('viceroyship.n.01'), Synset('viziership.n.01'), Synset('wardenship.n.01'), Synset('wardership.n.01'), Synset('womanhood.n.03')]\n",
      "\n",
      "\n",
      "post.n.04 : [Synset('bollard.n.01'), Synset('carrick_bitt.n.01'), Synset('corner_post.n.01'), Synset('gatepost.n.01'), Synset('goalpost.n.01'), Synset('hitching_post.n.01'), Synset('hop_pole.n.01'), Synset('king_post.n.01'), Synset('lamppost.n.01'), Synset('maypole.n.01'), Synset('newel_post.n.01'), Synset('queen_post.n.01'), Synset('rudderpost.n.01'), Synset('stake.n.05'), Synset('stanchion.n.01'), Synset('standard.n.05'), Synset('stump.n.03'), Synset('telephone_pole.n.01'), Synset('timber.n.03'), Synset('whipping_post.n.01')]\n",
      "\n",
      "\n",
      "post.n.05 : []\n",
      "\n",
      "\n",
      "post.n.06 : []\n",
      "\n",
      "\n",
      "post.n.07 : []\n",
      "\n",
      "\n",
      "mail.n.04 : [Synset('fan_mail.n.01'), Synset('hate_mail.n.01'), Synset('mailing.n.01')]\n",
      "\n",
      "\n",
      "post.n.09 : [Synset('starting_post.n.01'), Synset('winning_post.n.01')]\n",
      "\n",
      "\n",
      "mail.n.02 : [Synset('airmail.n.02'), Synset('rural_free_delivery.n.01'), Synset('snail_mail.n.01')]\n",
      "\n",
      "\n",
      "post.n.11 : []\n",
      "\n",
      "\n",
      "post.v.01 : [Synset('placard.v.01')]\n",
      "\n",
      "\n",
      "post.v.02 : [Synset('placard.v.02')]\n",
      "\n",
      "\n",
      "post.v.03 : []\n",
      "\n",
      "\n",
      "station.v.01 : [Synset('fort.v.03'), Synset('garrison.v.01'), Synset('locate.v.03')]\n",
      "\n",
      "\n",
      "post.v.05 : []\n",
      "\n",
      "\n",
      "post.v.06 : []\n",
      "\n",
      "\n",
      "post.v.07 : []\n",
      "\n",
      "\n",
      "post.v.08 : []\n",
      "\n",
      "\n",
      "stake.v.03 : []\n",
      "\n",
      "\n",
      "post.v.10 : []\n",
      "\n",
      "\n",
      "mail.v.02 : [Synset('airmail.v.01'), Synset('express-mail.v.01'), Synset('express.v.07'), Synset('register.v.09')]\n",
      "\n",
      "\n",
      "post.v.12 : []\n",
      "\n",
      "\n"
     ]
    }
   ],
   "source": [
    "for word in x:\n",
    "    print(word.name(), \":\", word.hyponyms())\n",
    "    print(\"\\n\")"
   ]
  },
  {
   "cell_type": "code",
   "execution_count": 15,
   "id": "ce793324",
   "metadata": {},
   "outputs": [
    {
     "name": "stdout",
     "output_type": "stream",
     "text": [
      "wheel.n.01 : <bound method _WordNetObject.member_meronyms of Synset('wheel.n.01')>\n",
      "steering_wheel.n.01 : <bound method _WordNetObject.member_meronyms of Synset('steering_wheel.n.01')>\n",
      "wheel.n.03 : <bound method _WordNetObject.member_meronyms of Synset('wheel.n.03')>\n",
      "wheel.n.04 : <bound method _WordNetObject.member_meronyms of Synset('wheel.n.04')>\n",
      "roulette_wheel.n.01 : <bound method _WordNetObject.member_meronyms of Synset('roulette_wheel.n.01')>\n",
      "rack.n.04 : <bound method _WordNetObject.member_meronyms of Synset('rack.n.04')>\n",
      "bicycle.n.01 : <bound method _WordNetObject.member_meronyms of Synset('bicycle.n.01')>\n",
      "wheel.v.01 : <bound method _WordNetObject.member_meronyms of Synset('wheel.v.01')>\n",
      "wheel.v.02 : <bound method _WordNetObject.member_meronyms of Synset('wheel.v.02')>\n",
      "wheel.v.03 : <bound method _WordNetObject.member_meronyms of Synset('wheel.v.03')>\n",
      "bicycle.v.01 : <bound method _WordNetObject.member_meronyms of Synset('bicycle.v.01')>\n"
     ]
    }
   ],
   "source": [
    "x = wordnet.synsets(\"wheel\")\n",
    "for word in x:\n",
    "    print(word.name(), \":\", word.member_meronyms)"
   ]
  },
  {
   "cell_type": "code",
   "execution_count": 16,
   "id": "ba11fdc8",
   "metadata": {},
   "outputs": [
    {
     "name": "stdout",
     "output_type": "stream",
     "text": [
      "bulb.n.01 : <bound method _WordNetObject.member_meronyms of Synset('bulb.n.01')>\n",
      "light_bulb.n.01 : <bound method _WordNetObject.member_meronyms of Synset('light_bulb.n.01')>\n",
      "bulb.n.03 : <bound method _WordNetObject.member_meronyms of Synset('bulb.n.03')>\n",
      "bulb.n.04 : <bound method _WordNetObject.member_meronyms of Synset('bulb.n.04')>\n",
      "medulla_oblongata.n.01 : <bound method _WordNetObject.member_meronyms of Synset('medulla_oblongata.n.01')>\n",
      "bulb.n.06 : <bound method _WordNetObject.member_meronyms of Synset('bulb.n.06')>\n"
     ]
    }
   ],
   "source": [
    "x = wordnet.synsets(\"bulb\")\n",
    "for word in x:\n",
    "    print(word.name(), \":\", word.member_meronyms)"
   ]
  },
  {
   "cell_type": "code",
   "execution_count": 17,
   "id": "bb9aeee5",
   "metadata": {},
   "outputs": [
    {
     "name": "stdout",
     "output_type": "stream",
     "text": [
      "Help on Synset in module nltk.corpus.reader.wordnet object:\n",
      "\n",
      "class Synset(_WordNetObject)\n",
      " |  Synset(wordnet_corpus_reader)\n",
      " |  \n",
      " |  Create a Synset from a \"<lemma>.<pos>.<number>\" string where:\n",
      " |  <lemma> is the word's morphological stem\n",
      " |  <pos> is one of the module attributes ADJ, ADJ_SAT, ADV, NOUN or VERB\n",
      " |  <number> is the sense number, counting from 0.\n",
      " |  \n",
      " |  Synset attributes, accessible via methods with the same name:\n",
      " |  \n",
      " |  - name: The canonical name of this synset, formed using the first lemma\n",
      " |    of this synset. Note that this may be different from the name\n",
      " |    passed to the constructor if that string used a different lemma to\n",
      " |    identify the synset.\n",
      " |  - pos: The synset's part of speech, matching one of the module level\n",
      " |    attributes ADJ, ADJ_SAT, ADV, NOUN or VERB.\n",
      " |  - lemmas: A list of the Lemma objects for this synset.\n",
      " |  - definition: The definition for this synset.\n",
      " |  - examples: A list of example strings for this synset.\n",
      " |  - offset: The offset in the WordNet dict file of this synset.\n",
      " |  - lexname: The name of the lexicographer file containing this synset.\n",
      " |  \n",
      " |  Synset methods:\n",
      " |  \n",
      " |  Synsets have the following methods for retrieving related Synsets.\n",
      " |  They correspond to the names for the pointer symbols defined here:\n",
      " |  https://wordnet.princeton.edu/documentation/wninput5wn\n",
      " |  These methods all return lists of Synsets.\n",
      " |  \n",
      " |  - hypernyms, instance_hypernyms\n",
      " |  - hyponyms, instance_hyponyms\n",
      " |  - member_holonyms, substance_holonyms, part_holonyms\n",
      " |  - member_meronyms, substance_meronyms, part_meronyms\n",
      " |  - attributes\n",
      " |  - entailments\n",
      " |  - causes\n",
      " |  - also_sees\n",
      " |  - verb_groups\n",
      " |  - similar_tos\n",
      " |  \n",
      " |  Additionally, Synsets support the following methods specific to the\n",
      " |  hypernym relation:\n",
      " |  \n",
      " |  - root_hypernyms\n",
      " |  - common_hypernyms\n",
      " |  - lowest_common_hypernyms\n",
      " |  \n",
      " |  Note that Synsets do not support the following relations because\n",
      " |  these are defined by WordNet as lexical relations:\n",
      " |  \n",
      " |  - antonyms\n",
      " |  - derivationally_related_forms\n",
      " |  - pertainyms\n",
      " |  \n",
      " |  Method resolution order:\n",
      " |      Synset\n",
      " |      _WordNetObject\n",
      " |      builtins.object\n",
      " |  \n",
      " |  Methods defined here:\n",
      " |  \n",
      " |  __init__(self, wordnet_corpus_reader)\n",
      " |      Initialize self.  See help(type(self)) for accurate signature.\n",
      " |  \n",
      " |  __repr__(self)\n",
      " |      Return repr(self).\n",
      " |  \n",
      " |  acyclic_tree = acyclic_depth_first(tree, children=<built-in function iter>, depth=-1, cut_mark=None, traversed=None)\n",
      " |      Traverse the nodes of a tree in depth-first order,\n",
      " |      discarding eventual cycles within any branch,\n",
      " |      adding cut_mark (when specified) if cycles were truncated.\n",
      " |      \n",
      " |      The first argument should be the tree root;\n",
      " |      children should be a function taking as argument a tree node\n",
      " |      and returning an iterator of the node's children.\n",
      " |      \n",
      " |      Catches all cycles:\n",
      " |      \n",
      " |      >>> import nltk\n",
      " |      >>> from nltk.util import acyclic_depth_first as acyclic_tree\n",
      " |      >>> wn=nltk.corpus.wordnet\n",
      " |      >>> from pprint import pprint\n",
      " |      >>> pprint(acyclic_tree(wn.synset('dog.n.01'), lambda s:s.hypernyms(),cut_mark='...'))\n",
      " |      [Synset('dog.n.01'),\n",
      " |       [Synset('canine.n.02'),\n",
      " |        [Synset('carnivore.n.01'),\n",
      " |         [Synset('placental.n.01'),\n",
      " |          [Synset('mammal.n.01'),\n",
      " |           [Synset('vertebrate.n.01'),\n",
      " |            [Synset('chordate.n.01'),\n",
      " |             [Synset('animal.n.01'),\n",
      " |              [Synset('organism.n.01'),\n",
      " |               [Synset('living_thing.n.01'),\n",
      " |                [Synset('whole.n.02'),\n",
      " |                 [Synset('object.n.01'),\n",
      " |                  [Synset('physical_entity.n.01'),\n",
      " |                   [Synset('entity.n.01')]]]]]]]]]]]]],\n",
      " |       [Synset('domestic_animal.n.01'), \"Cycle(Synset('animal.n.01'),-3,...)\"]]\n",
      " |  \n",
      " |  closure(self, rel, depth=-1)\n",
      " |      Return the transitive closure of source under the rel\n",
      " |      relationship, breadth-first, discarding cycles:\n",
      " |      \n",
      " |      >>> from nltk.corpus import wordnet as wn\n",
      " |      >>> computer = wn.synset('computer.n.01')\n",
      " |      >>> topic = lambda s:s.topic_domains()\n",
      " |      >>> print(list(computer.closure(topic)))\n",
      " |      [Synset('computer_science.n.01')]\n",
      " |      \n",
      " |      UserWarning: Discarded redundant search for Synset('computer.n.01') at depth 2\n",
      " |      \n",
      " |      \n",
      " |      Include redundant paths (but only once), avoiding duplicate searches\n",
      " |      (from 'animal.n.01' to 'entity.n.01'):\n",
      " |      \n",
      " |      >>> dog = wn.synset('dog.n.01')\n",
      " |      >>> hyp = lambda s:s.hypernyms()\n",
      " |      >>> print(list(dog.closure(hyp)))\n",
      " |      [Synset('canine.n.02'), Synset('domestic_animal.n.01'), Synset('carnivore.n.01'), Synset('animal.n.01'), Synset('placental.n.01'), Synset('organism.n.01'), Synset('mammal.n.01'), Synset('living_thing.n.01'), Synset('vertebrate.n.01'), Synset('whole.n.02'), Synset('chordate.n.01'), Synset('object.n.01'), Synset('physical_entity.n.01'), Synset('entity.n.01')]\n",
      " |      \n",
      " |      UserWarning: Discarded redundant search for Synset('animal.n.01') at depth 7\n",
      " |  \n",
      " |  common_hypernyms(self, other)\n",
      " |      Find all synsets that are hypernyms of this synset and the\n",
      " |      other synset.\n",
      " |      \n",
      " |      :type other: Synset\n",
      " |      :param other: other input synset.\n",
      " |      :return: The synsets that are hypernyms of both synsets.\n",
      " |  \n",
      " |  definition(self, lang='eng')\n",
      " |      Return definition in specified language\n",
      " |  \n",
      " |  examples(self, lang='eng')\n",
      " |      Return examples in specified language\n",
      " |  \n",
      " |  frame_ids(self)\n",
      " |  \n",
      " |  hypernym_distances(self, distance=0, simulate_root=False)\n",
      " |      Get the path(s) from this synset to the root, counting the distance\n",
      " |      of each node from the initial node on the way. A set of\n",
      " |      (synset, distance) tuples is returned.\n",
      " |      \n",
      " |      :type distance: int\n",
      " |      :param distance: the distance (number of edges) from this hypernym to\n",
      " |          the original hypernym ``Synset`` on which this method was called.\n",
      " |      :return: A set of ``(Synset, int)`` tuples where each ``Synset`` is\n",
      " |         a hypernym of the first ``Synset``.\n",
      " |  \n",
      " |  hypernym_paths(self)\n",
      " |      Get the path(s) from this synset to the root, where each path is a\n",
      " |      list of the synset nodes traversed on the way to the root.\n",
      " |      \n",
      " |      :return: A list of lists, where each list gives the node sequence\n",
      " |         connecting the initial ``Synset`` node and a root node.\n",
      " |  \n",
      " |  jcn_similarity(self, other, ic, verbose=False)\n",
      " |      Jiang-Conrath Similarity:\n",
      " |      Return a score denoting how similar two word senses are, based on the\n",
      " |      Information Content (IC) of the Least Common Subsumer (most specific\n",
      " |      ancestor node) and that of the two input Synsets. The relationship is\n",
      " |      given by the equation 1 / (IC(s1) + IC(s2) - 2 * IC(lcs)).\n",
      " |      \n",
      " |      :type  other: Synset\n",
      " |      :param other: The ``Synset`` that this ``Synset`` is being compared to.\n",
      " |      :type  ic: dict\n",
      " |      :param ic: an information content object (as returned by\n",
      " |          ``nltk.corpus.wordnet_ic.ic()``).\n",
      " |      :return: A float score denoting the similarity of the two ``Synset``\n",
      " |          objects.\n",
      " |  \n",
      " |  lch_similarity(self, other, verbose=False, simulate_root=True)\n",
      " |      Leacock Chodorow Similarity:\n",
      " |      Return a score denoting how similar two word senses are, based on the\n",
      " |      shortest path that connects the senses (as above) and the maximum depth\n",
      " |      of the taxonomy in which the senses occur. The relationship is given as\n",
      " |      -log(p/2d) where p is the shortest path length and d is the taxonomy\n",
      " |      depth.\n",
      " |      \n",
      " |      :type  other: Synset\n",
      " |      :param other: The ``Synset`` that this ``Synset`` is being compared to.\n",
      " |      :type simulate_root: bool\n",
      " |      :param simulate_root: The various verb taxonomies do not\n",
      " |          share a single root which disallows this metric from working for\n",
      " |          synsets that are not connected. This flag (True by default)\n",
      " |          creates a fake root that connects all the taxonomies. Set it\n",
      " |          to false to disable this behavior. For the noun taxonomy,\n",
      " |          there is usually a default root except for WordNet version 1.6.\n",
      " |          If you are using wordnet 1.6, a fake root will be added for nouns\n",
      " |          as well.\n",
      " |      :return: A score denoting the similarity of the two ``Synset`` objects,\n",
      " |          normally greater than 0. None is returned if no connecting path\n",
      " |          could be found. If a ``Synset`` is compared with itself, the\n",
      " |          maximum score is returned, which varies depending on the taxonomy\n",
      " |          depth.\n",
      " |  \n",
      " |  lemma_names(self, lang='eng')\n",
      " |      Return all the lemma_names associated with the synset\n",
      " |  \n",
      " |  lemmas(self, lang='eng')\n",
      " |      Return all the lemma objects associated with the synset\n",
      " |  \n",
      " |  lexname(self)\n",
      " |  \n",
      " |  lin_similarity(self, other, ic, verbose=False)\n",
      " |      Lin Similarity:\n",
      " |      Return a score denoting how similar two word senses are, based on the\n",
      " |      Information Content (IC) of the Least Common Subsumer (most specific\n",
      " |      ancestor node) and that of the two input Synsets. The relationship is\n",
      " |      given by the equation 2 * IC(lcs) / (IC(s1) + IC(s2)).\n",
      " |      \n",
      " |      :type other: Synset\n",
      " |      :param other: The ``Synset`` that this ``Synset`` is being compared to.\n",
      " |      :type ic: dict\n",
      " |      :param ic: an information content object (as returned by\n",
      " |          ``nltk.corpus.wordnet_ic.ic()``).\n",
      " |      :return: A float score denoting the similarity of the two ``Synset``\n",
      " |          objects, in the range 0 to 1.\n",
      " |  \n",
      " |  lowest_common_hypernyms(self, other, simulate_root=False, use_min_depth=False)\n",
      " |      Get a list of lowest synset(s) that both synsets have as a hypernym.\n",
      " |      When `use_min_depth == False` this means that the synset which appears\n",
      " |      as a hypernym of both `self` and `other` with the lowest maximum depth\n",
      " |      is returned or if there are multiple such synsets at the same depth\n",
      " |      they are all returned\n",
      " |      \n",
      " |      However, if `use_min_depth == True` then the synset(s) which has/have\n",
      " |      the lowest minimum depth and appear(s) in both paths is/are returned.\n",
      " |      \n",
      " |      By setting the use_min_depth flag to True, the behavior of NLTK2 can be\n",
      " |      preserved. This was changed in NLTK3 to give more accurate results in a\n",
      " |      small set of cases, generally with synsets concerning people. (eg:\n",
      " |      'chef.n.01', 'fireman.n.01', etc.)\n",
      " |      \n",
      " |      This method is an implementation of Ted Pedersen's \"Lowest Common\n",
      " |      Subsumer\" method from the Perl Wordnet module. It can return either\n",
      " |      \"self\" or \"other\" if they are a hypernym of the other.\n",
      " |      \n",
      " |      :type other: Synset\n",
      " |      :param other: other input synset\n",
      " |      :type simulate_root: bool\n",
      " |      :param simulate_root: The various verb taxonomies do not\n",
      " |          share a single root which disallows this metric from working for\n",
      " |          synsets that are not connected. This flag (False by default)\n",
      " |          creates a fake root that connects all the taxonomies. Set it\n",
      " |          to True to enable this behavior. For the noun taxonomy,\n",
      " |          there is usually a default root except for WordNet version 1.6.\n",
      " |          If you are using wordnet 1.6, a fake root will need to be added\n",
      " |          for nouns as well.\n",
      " |      :type use_min_depth: bool\n",
      " |      :param use_min_depth: This setting mimics older (v2) behavior of NLTK\n",
      " |          wordnet If True, will use the min_depth function to calculate the\n",
      " |          lowest common hypernyms. This is known to give strange results for\n",
      " |          some synset pairs (eg: 'chef.n.01', 'fireman.n.01') but is retained\n",
      " |          for backwards compatibility\n",
      " |      :return: The synsets that are the lowest common hypernyms of both\n",
      " |          synsets\n",
      " |  \n",
      " |  max_depth(self)\n",
      " |      :return: The length of the longest hypernym path from this\n",
      " |          synset to the root.\n",
      " |  \n",
      " |  min_depth(self)\n",
      " |      :return: The length of the shortest hypernym path from this\n",
      " |          synset to the root.\n",
      " |  \n",
      " |  mst = unweighted_minimum_spanning_tree(tree, children=<built-in function iter>)\n",
      " |      Output a Minimum Spanning Tree (MST) of an unweighted graph,\n",
      " |      by traversing the nodes of a tree in breadth-first order,\n",
      " |      discarding eventual cycles.\n",
      " |      \n",
      " |      The first argument should be the tree root;\n",
      " |      children should be a function taking as argument a tree node\n",
      " |      and returning an iterator of the node's children.\n",
      " |      \n",
      " |      >>> import nltk\n",
      " |      >>> from nltk.util import unweighted_minimum_spanning_tree as mst\n",
      " |      >>> wn=nltk.corpus.wordnet\n",
      " |      >>> from pprint import pprint\n",
      " |      >>> pprint(mst(wn.synset('bound.a.01'), lambda s:s.also_sees()))\n",
      " |      [Synset('bound.a.01'),\n",
      " |       [Synset('unfree.a.02'),\n",
      " |        [Synset('confined.a.02')],\n",
      " |        [Synset('dependent.a.01')],\n",
      " |        [Synset('restricted.a.01'), [Synset('classified.a.02')]]]]\n",
      " |  \n",
      " |  name(self)\n",
      " |  \n",
      " |  offset(self)\n",
      " |  \n",
      " |  path_similarity(self, other, verbose=False, simulate_root=True)\n",
      " |      Path Distance Similarity:\n",
      " |      Return a score denoting how similar two word senses are, based on the\n",
      " |      shortest path that connects the senses in the is-a (hypernym/hypnoym)\n",
      " |      taxonomy. The score is in the range 0 to 1, except in those cases where\n",
      " |      a path cannot be found (will only be true for verbs as there are many\n",
      " |      distinct verb taxonomies), in which case None is returned. A score of\n",
      " |      1 represents identity i.e. comparing a sense with itself will return 1.\n",
      " |      \n",
      " |      :type other: Synset\n",
      " |      :param other: The ``Synset`` that this ``Synset`` is being compared to.\n",
      " |      :type simulate_root: bool\n",
      " |      :param simulate_root: The various verb taxonomies do not\n",
      " |          share a single root which disallows this metric from working for\n",
      " |          synsets that are not connected. This flag (True by default)\n",
      " |          creates a fake root that connects all the taxonomies. Set it\n",
      " |          to false to disable this behavior. For the noun taxonomy,\n",
      " |          there is usually a default root except for WordNet version 1.6.\n",
      " |          If you are using wordnet 1.6, a fake root will be added for nouns\n",
      " |          as well.\n",
      " |      :return: A score denoting the similarity of the two ``Synset`` objects,\n",
      " |          normally between 0 and 1. None is returned if no connecting path\n",
      " |          could be found. 1 is returned if a ``Synset`` is compared with\n",
      " |          itself.\n",
      " |  \n",
      " |  pos(self)\n",
      " |  \n",
      " |  res_similarity(self, other, ic, verbose=False)\n",
      " |      Resnik Similarity:\n",
      " |      Return a score denoting how similar two word senses are, based on the\n",
      " |      Information Content (IC) of the Least Common Subsumer (most specific\n",
      " |      ancestor node).\n",
      " |      \n",
      " |      :type  other: Synset\n",
      " |      :param other: The ``Synset`` that this ``Synset`` is being compared to.\n",
      " |      :type ic: dict\n",
      " |      :param ic: an information content object (as returned by\n",
      " |          ``nltk.corpus.wordnet_ic.ic()``).\n",
      " |      :return: A float score denoting the similarity of the two ``Synset``\n",
      " |          objects. Synsets whose LCS is the root node of the taxonomy will\n",
      " |          have a score of 0 (e.g. N['dog'][0] and N['table'][0]).\n",
      " |  \n",
      " |  root_hypernyms(self)\n",
      " |      Get the topmost hypernyms of this synset in WordNet.\n",
      " |  \n",
      " |  shortest_path_distance(self, other, simulate_root=False)\n",
      " |      Returns the distance of the shortest path linking the two synsets (if\n",
      " |      one exists). For each synset, all the ancestor nodes and their\n",
      " |      distances are recorded and compared. The ancestor node common to both\n",
      " |      synsets that can be reached with the minimum number of traversals is\n",
      " |      used. If no ancestor nodes are common, None is returned. If a node is\n",
      " |      compared with itself 0 is returned.\n",
      " |      \n",
      " |      :type other: Synset\n",
      " |      :param other: The Synset to which the shortest path will be found.\n",
      " |      :return: The number of edges in the shortest path connecting the two\n",
      " |          nodes, or None if no path exists.\n",
      " |  \n",
      " |  tree(self, rel, depth=-1, cut_mark=None)\n",
      " |      Return the full relation tree, including self,\n",
      " |      discarding cycles:\n",
      " |      \n",
      " |      >>> from nltk.corpus import wordnet as wn\n",
      " |      >>> from pprint import pprint\n",
      " |      >>> computer = wn.synset('computer.n.01')\n",
      " |      >>> topic = lambda s:s.topic_domains()\n",
      " |      >>> pprint(computer.tree(topic))\n",
      " |      [Synset('computer.n.01'), [Synset('computer_science.n.01')]]\n",
      " |      \n",
      " |      UserWarning: Discarded redundant search for Synset('computer.n.01') at depth -3\n",
      " |      \n",
      " |      \n",
      " |      But keep duplicate branches (from 'animal.n.01' to 'entity.n.01'):\n",
      " |      \n",
      " |      >>> dog = wn.synset('dog.n.01')\n",
      " |      >>> hyp = lambda s:s.hypernyms()\n",
      " |      >>> pprint(dog.tree(hyp))\n",
      " |      [Synset('dog.n.01'),\n",
      " |       [Synset('canine.n.02'),\n",
      " |        [Synset('carnivore.n.01'),\n",
      " |         [Synset('placental.n.01'),\n",
      " |          [Synset('mammal.n.01'),\n",
      " |           [Synset('vertebrate.n.01'),\n",
      " |            [Synset('chordate.n.01'),\n",
      " |             [Synset('animal.n.01'),\n",
      " |              [Synset('organism.n.01'),\n",
      " |               [Synset('living_thing.n.01'),\n",
      " |                [Synset('whole.n.02'),\n",
      " |                 [Synset('object.n.01'),\n",
      " |                  [Synset('physical_entity.n.01'),\n",
      " |                   [Synset('entity.n.01')]]]]]]]]]]]]],\n",
      " |       [Synset('domestic_animal.n.01'),\n",
      " |        [Synset('animal.n.01'),\n",
      " |         [Synset('organism.n.01'),\n",
      " |          [Synset('living_thing.n.01'),\n",
      " |           [Synset('whole.n.02'),\n",
      " |            [Synset('object.n.01'),\n",
      " |             [Synset('physical_entity.n.01'), [Synset('entity.n.01')]]]]]]]]]\n",
      " |  \n",
      " |  wup_similarity(self, other, verbose=False, simulate_root=True)\n",
      " |      Wu-Palmer Similarity:\n",
      " |      Return a score denoting how similar two word senses are, based on the\n",
      " |      depth of the two senses in the taxonomy and that of their Least Common\n",
      " |      Subsumer (most specific ancestor node). Previously, the scores computed\n",
      " |      by this implementation did _not_ always agree with those given by\n",
      " |      Pedersen's Perl implementation of WordNet Similarity. However, with\n",
      " |      the addition of the simulate_root flag (see below), the score for\n",
      " |      verbs now almost always agree but not always for nouns.\n",
      " |      \n",
      " |      The LCS does not necessarily feature in the shortest path connecting\n",
      " |      the two senses, as it is by definition the common ancestor deepest in\n",
      " |      the taxonomy, not closest to the two senses. Typically, however, it\n",
      " |      will so feature. Where multiple candidates for the LCS exist, that\n",
      " |      whose shortest path to the root node is the longest will be selected.\n",
      " |      Where the LCS has multiple paths to the root, the longer path is used\n",
      " |      for the purposes of the calculation.\n",
      " |      \n",
      " |      :type  other: Synset\n",
      " |      :param other: The ``Synset`` that this ``Synset`` is being compared to.\n",
      " |      :type simulate_root: bool\n",
      " |      :param simulate_root: The various verb taxonomies do not\n",
      " |          share a single root which disallows this metric from working for\n",
      " |          synsets that are not connected. This flag (True by default)\n",
      " |          creates a fake root that connects all the taxonomies. Set it\n",
      " |          to false to disable this behavior. For the noun taxonomy,\n",
      " |          there is usually a default root except for WordNet version 1.6.\n",
      " |          If you are using wordnet 1.6, a fake root will be added for nouns\n",
      " |          as well.\n",
      " |      :return: A float score denoting the similarity of the two ``Synset``\n",
      " |          objects, normally greater than zero. If no connecting path between\n",
      " |          the two senses can be found, None is returned.\n",
      " |  \n",
      " |  ----------------------------------------------------------------------\n",
      " |  Methods inherited from _WordNetObject:\n",
      " |  \n",
      " |  __eq__(self, other)\n",
      " |      Return self==value.\n",
      " |  \n",
      " |  __ge__(self, other, NotImplemented=NotImplemented)\n",
      " |      Return a >= b.  Computed by @total_ordering from (not a < b).\n",
      " |  \n",
      " |  __gt__(self, other, NotImplemented=NotImplemented)\n",
      " |      Return a > b.  Computed by @total_ordering from (not a < b) and (a != b).\n",
      " |  \n",
      " |  __hash__(self)\n",
      " |      Return hash(self).\n",
      " |  \n",
      " |  __le__(self, other, NotImplemented=NotImplemented)\n",
      " |      Return a <= b.  Computed by @total_ordering from (a < b) or (a == b).\n",
      " |  \n",
      " |  __lt__(self, other)\n",
      " |      Return self<value.\n",
      " |  \n",
      " |  __ne__(self, other)\n",
      " |      Return self!=value.\n",
      " |  \n",
      " |  also_sees(self)\n",
      " |  \n",
      " |  attributes(self)\n",
      " |  \n",
      " |  causes(self)\n",
      " |  \n",
      " |  entailments(self)\n",
      " |  \n",
      " |  hypernyms(self)\n",
      " |  \n",
      " |  hyponyms(self)\n",
      " |  \n",
      " |  in_region_domains(self)\n",
      " |  \n",
      " |  in_topic_domains(self)\n",
      " |  \n",
      " |  in_usage_domains(self)\n",
      " |  \n",
      " |  instance_hypernyms(self)\n",
      " |  \n",
      " |  instance_hyponyms(self)\n",
      " |  \n",
      " |  member_holonyms(self)\n",
      " |  \n",
      " |  member_meronyms(self)\n",
      " |  \n",
      " |  part_holonyms(self)\n",
      " |  \n",
      " |  part_meronyms(self)\n",
      " |  \n",
      " |  region_domains(self)\n",
      " |  \n",
      " |  similar_tos(self)\n",
      " |  \n",
      " |  substance_holonyms(self)\n",
      " |  \n",
      " |  substance_meronyms(self)\n",
      " |  \n",
      " |  topic_domains(self)\n",
      " |  \n",
      " |  usage_domains(self)\n",
      " |  \n",
      " |  verb_groups(self)\n",
      " |  \n",
      " |  ----------------------------------------------------------------------\n",
      " |  Data descriptors inherited from _WordNetObject:\n",
      " |  \n",
      " |  __dict__\n",
      " |      dictionary for instance variables (if defined)\n",
      " |  \n",
      " |  __weakref__\n",
      " |      list of weak references to the object (if defined)\n",
      "\n"
     ]
    }
   ],
   "source": [
    "help(word)"
   ]
  },
  {
   "cell_type": "code",
   "execution_count": 18,
   "id": "dffefe01",
   "metadata": {},
   "outputs": [],
   "source": [
    "from nltk.wsd import lesk\n",
    "from nltk.tokenize import word_tokenize"
   ]
  },
  {
   "cell_type": "code",
   "execution_count": 19,
   "id": "a2cb13f4",
   "metadata": {},
   "outputs": [],
   "source": [
    "a1 = lesk(word_tokenize(\"This device is used to jam the signal.\"), \"jam\")"
   ]
  },
  {
   "cell_type": "code",
   "execution_count": 20,
   "id": "349f066f",
   "metadata": {},
   "outputs": [
    {
     "data": {
      "text/plain": [
       "'deliberate radiation or reflection of electromagnetic energy for the purpose of disrupting enemy use of electronic devices or systems'"
      ]
     },
     "execution_count": 20,
     "metadata": {},
     "output_type": "execute_result"
    }
   ],
   "source": [
    "a1.definition()"
   ]
  },
  {
   "cell_type": "code",
   "execution_count": 21,
   "id": "71ac72eb",
   "metadata": {},
   "outputs": [],
   "source": [
    "a1 = lesk(word_tokenize(\"I am stuck in a traffic jam.\"), \"jam\")"
   ]
  },
  {
   "cell_type": "code",
   "execution_count": 22,
   "id": "96ffc38a",
   "metadata": {},
   "outputs": [
    {
     "data": {
      "text/plain": [
       "'get stuck and immobilized'"
      ]
     },
     "execution_count": 22,
     "metadata": {},
     "output_type": "execute_result"
    }
   ],
   "source": [
    "a1.definition()"
   ]
  },
  {
   "cell_type": "code",
   "execution_count": 29,
   "id": "69543163",
   "metadata": {},
   "outputs": [],
   "source": [
    "a2 = lesk(word_tokenize(\"The traffic is high on that website today.\"), \"traffic\")"
   ]
  },
  {
   "cell_type": "code",
   "execution_count": 30,
   "id": "504ed0d3",
   "metadata": {},
   "outputs": [
    {
     "data": {
      "text/plain": [
       "'trade or deal a commodity'"
      ]
     },
     "execution_count": 30,
     "metadata": {},
     "output_type": "execute_result"
    }
   ],
   "source": [
    "a2.definition()"
   ]
  },
  {
   "cell_type": "code",
   "execution_count": 25,
   "id": "09a869c8",
   "metadata": {},
   "outputs": [
    {
     "data": {
      "text/plain": [
       "[Synset('traffic.n.01'),\n",
       " Synset('traffic.n.02'),\n",
       " Synset('traffic.n.03'),\n",
       " Synset('dealings.n.01'),\n",
       " Synset('traffic.v.01'),\n",
       " Synset('traffic.v.02')]"
      ]
     },
     "execution_count": 25,
     "metadata": {},
     "output_type": "execute_result"
    }
   ],
   "source": [
    "y = wordnet.synsets(\"traffic\")\n",
    "y"
   ]
  },
  {
   "cell_type": "code",
   "execution_count": 26,
   "id": "3abe03a8",
   "metadata": {},
   "outputs": [
    {
     "name": "stdout",
     "output_type": "stream",
     "text": [
      "traffic.n.01 : the aggregation of things (pedestrians or vehicles) coming and going in a particular locality during a specified period of time\n",
      "traffic.n.02 : buying and selling; especially illicit trade\n",
      "traffic.n.03 : the amount of activity over a communication system during a given period of time\n",
      "dealings.n.01 : social or verbal interchange (usually followed by `with')\n",
      "traffic.v.01 : deal illegally\n",
      "traffic.v.02 : trade or deal a commodity\n"
     ]
    }
   ],
   "source": [
    "for word in y:\n",
    "    print(word.name(), \":\", word.definition())"
   ]
  },
  {
   "cell_type": "code",
   "execution_count": 31,
   "id": "01ebda99",
   "metadata": {},
   "outputs": [
    {
     "data": {
      "text/plain": [
       "'discover or come upon accidentally, suddenly, or unexpectedly; catch somebody doing something or in a certain state'"
      ]
     },
     "execution_count": 31,
     "metadata": {},
     "output_type": "execute_result"
    }
   ],
   "source": [
    "c1 = lesk(word_tokenize(\"It was a good catch by the fielder.\"), \"catch\")\n",
    "c1.definition()"
   ]
  },
  {
   "cell_type": "code",
   "execution_count": 32,
   "id": "d6c81112",
   "metadata": {},
   "outputs": [
    {
     "data": {
      "text/plain": [
       "'catch up with and possibly overtake'"
      ]
     },
     "execution_count": 32,
     "metadata": {},
     "output_type": "execute_result"
    }
   ],
   "source": [
    "c2 = lesk(word_tokenize(\"You can catch that opportunity.\"), \"catch\")\n",
    "c2.definition()"
   ]
  },
  {
   "cell_type": "code",
   "execution_count": 34,
   "id": "14c66267",
   "metadata": {},
   "outputs": [
    {
     "data": {
      "text/plain": [
       "[Synset('catch.n.01'),\n",
       " Synset('catch.n.02'),\n",
       " Synset('catch.n.03'),\n",
       " Synset('catch.n.04'),\n",
       " Synset('catch.n.05'),\n",
       " Synset('catch.n.06'),\n",
       " Synset('catch.n.07'),\n",
       " Synset('catch.n.08'),\n",
       " Synset('catch.n.09'),\n",
       " Synset('apprehension.n.04'),\n",
       " Synset('catch.v.01'),\n",
       " Synset('catch.v.02'),\n",
       " Synset('get.v.19'),\n",
       " Synset('catch.v.04'),\n",
       " Synset('get.v.11'),\n",
       " Synset('hitch.v.01'),\n",
       " Synset('catch.v.07'),\n",
       " Synset('capture.v.06'),\n",
       " Synset('catch.v.09'),\n",
       " Synset('catch.v.10'),\n",
       " Synset('overtake.v.01'),\n",
       " Synset('catch.v.12'),\n",
       " Synset('catch.v.13'),\n",
       " Synset('catch.v.14'),\n",
       " Synset('watch.v.03'),\n",
       " Synset('catch.v.16'),\n",
       " Synset('trip_up.v.01'),\n",
       " Synset('catch.v.18'),\n",
       " Synset('catch.v.19'),\n",
       " Synset('catch.v.20'),\n",
       " Synset('catch.v.21'),\n",
       " Synset('catch.v.22'),\n",
       " Synset('capture.v.02'),\n",
       " Synset('catch.v.24'),\n",
       " Synset('catch.v.25'),\n",
       " Synset('catch.v.26'),\n",
       " Synset('catch.v.27'),\n",
       " Synset('catch.v.28'),\n",
       " Synset('catch.v.29')]"
      ]
     },
     "execution_count": 34,
     "metadata": {},
     "output_type": "execute_result"
    }
   ],
   "source": [
    "z = wordnet.synsets(\"catch\")\n",
    "z"
   ]
  },
  {
   "cell_type": "code",
   "execution_count": 35,
   "id": "f0763fa5",
   "metadata": {},
   "outputs": [
    {
     "name": "stdout",
     "output_type": "stream",
     "text": [
      "catch.n.01 : a drawback or difficulty that is not readily evident\n",
      "catch.n.02 : the quantity that was caught\n",
      "catch.n.03 : a person regarded as a good matrimonial prospect\n",
      "catch.n.04 : anything that is caught (especially if it is worth catching)\n",
      "catch.n.05 : a break or check in the voice (usually a sign of strong emotion)\n",
      "catch.n.06 : a restraint that checks the motion of something\n",
      "catch.n.07 : a fastener that fastens or locks a door or window\n",
      "catch.n.08 : a cooperative game in which a ball is passed back and forth\n",
      "catch.n.09 : the act of catching an object with the hands\n",
      "apprehension.n.04 : the act of apprehending (especially apprehending a criminal)\n",
      "catch.v.01 : discover or come upon accidentally, suddenly, or unexpectedly; catch somebody doing something or in a certain state\n",
      "catch.v.02 : perceive with the senses quickly, suddenly, or momentarily\n",
      "get.v.19 : reach with a blow or hit in a particular spot\n",
      "catch.v.04 : take hold of so as to seize or restrain or stop the motion of\n",
      "get.v.11 : succeed in catching or seizing, especially after a chase\n",
      "hitch.v.01 : to hook or entangle\n",
      "catch.v.07 : attract and fix\n",
      "capture.v.06 : capture as if by hunting, snaring, or trapping\n",
      "catch.v.09 : reach in time\n",
      "catch.v.10 : get or regain something necessary, usually quickly or briefly\n",
      "overtake.v.01 : catch up with and possibly overtake\n",
      "catch.v.12 : be struck or affected by\n",
      "catch.v.13 : check oneself during an action\n",
      "catch.v.14 : hear, usually without the knowledge of the speakers\n",
      "watch.v.03 : see or watch\n",
      "catch.v.16 : cause to become accidentally or suddenly caught, ensnared, or entangled\n",
      "trip_up.v.01 : detect a blunder or misstep\n",
      "catch.v.18 : grasp with the mind or develop an understanding of\n",
      "catch.v.19 : contract\n",
      "catch.v.20 : start burning\n",
      "catch.v.21 : perceive by hearing\n",
      "catch.v.22 : suffer from the receipt of\n",
      "capture.v.02 : attract; cause to be enamored\n",
      "catch.v.24 : apprehend and reproduce accurately\n",
      "catch.v.25 : take in and retain\n",
      "catch.v.26 : spread or be communicated\n",
      "catch.v.27 : be the catcher\n",
      "catch.v.28 : become aware of\n",
      "catch.v.29 : delay or hold up; prevent from proceeding on schedule or as planned\n"
     ]
    }
   ],
   "source": [
    "for word in z:\n",
    "    print(word.name(), \":\", word.definition())"
   ]
  },
  {
   "cell_type": "code",
   "execution_count": null,
   "id": "ffab718f",
   "metadata": {},
   "outputs": [],
   "source": []
  }
 ],
 "metadata": {
  "kernelspec": {
   "display_name": "Python 3 (ipykernel)",
   "language": "python",
   "name": "python3"
  },
  "language_info": {
   "codemirror_mode": {
    "name": "ipython",
    "version": 3
   },
   "file_extension": ".py",
   "mimetype": "text/x-python",
   "name": "python",
   "nbconvert_exporter": "python",
   "pygments_lexer": "ipython3",
   "version": "3.9.12"
  }
 },
 "nbformat": 4,
 "nbformat_minor": 5
}
