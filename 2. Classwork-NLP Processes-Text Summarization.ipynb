{
 "cells": [
  {
   "cell_type": "code",
   "execution_count": null,
   "id": "07c7099c",
   "metadata": {},
   "outputs": [],
   "source": [
    "# Name: Souhard Kulkarni      Enrolment number: 14"
   ]
  },
  {
   "cell_type": "code",
   "execution_count": 1,
   "id": "52898c90",
   "metadata": {},
   "outputs": [
    {
     "name": "stdout",
     "output_type": "stream",
     "text": [
      "Note: you may need to restart the kernel to use updated packages.\n"
     ]
    },
    {
     "name": "stderr",
     "output_type": "stream",
     "text": [
      "WARNING: Ignoring invalid distribution -laysound (c:\\users\\souha\\anaconda3\\lib\\site-packages)\n",
      "ERROR: Invalid requirement: '#'\n",
      "WARNING: Ignoring invalid distribution -laysound (c:\\users\\souha\\anaconda3\\lib\\site-packages)\n",
      "WARNING: Ignoring invalid distribution -laysound (c:\\users\\souha\\anaconda3\\lib\\site-packages)\n",
      "WARNING: Ignoring invalid distribution -laysound (c:\\users\\souha\\anaconda3\\lib\\site-packages)\n"
     ]
    }
   ],
   "source": [
    "pip install sumy transformers    # Installing the libraries; Sumy: Extractive Summarization; Transformer: Abstractive Summarization"
   ]
  },
  {
   "cell_type": "markdown",
   "id": "7149afae",
   "metadata": {},
   "source": [
    "Extractive Summarization"
   ]
  },
  {
   "cell_type": "code",
   "execution_count": 2,
   "id": "efd0225f",
   "metadata": {},
   "outputs": [],
   "source": [
    "# Text Summarization Using the TextRank Algorithm"
   ]
  },
  {
   "cell_type": "code",
   "execution_count": 3,
   "id": "fe04a61a",
   "metadata": {},
   "outputs": [
    {
     "name": "stderr",
     "output_type": "stream",
     "text": [
      "C:\\Users\\souha\\anaconda3\\lib\\site-packages\\scipy\\__init__.py:146: UserWarning: A NumPy version >=1.16.5 and <1.23.0 is required for this version of SciPy (detected version 1.26.4\n",
      "  warnings.warn(f\"A NumPy version >={np_minversion} and <{np_maxversion}\"\n"
     ]
    }
   ],
   "source": [
    "from sumy.summarizers.text_rank import TextRankSummarizer       # Importing the class"
   ]
  },
  {
   "cell_type": "code",
   "execution_count": 4,
   "id": "85d87629",
   "metadata": {},
   "outputs": [],
   "source": [
    "from sumy.parsers.plaintext import PlaintextParser              # Importing a parser and a tokenizer\n",
    "from sumy.nlp.tokenizers import Tokenizer"
   ]
  },
  {
   "cell_type": "code",
   "execution_count": 5,
   "id": "9ab590a9",
   "metadata": {},
   "outputs": [
    {
     "name": "stderr",
     "output_type": "stream",
     "text": [
      "[nltk_data] Downloading package punkt to\n",
      "[nltk_data]     C:\\Users\\souha\\AppData\\Roaming\\nltk_data...\n",
      "[nltk_data]   Package punkt is already up-to-date!\n"
     ]
    },
    {
     "data": {
      "text/plain": [
       "True"
      ]
     },
     "execution_count": 5,
     "metadata": {},
     "output_type": "execute_result"
    }
   ],
   "source": [
    "import nltk\n",
    "nltk.download('punkt')"
   ]
  },
  {
   "cell_type": "code",
   "execution_count": 6,
   "id": "60ea1db4",
   "metadata": {},
   "outputs": [],
   "source": [
    "text = '''The Bengal tiger is a population of the Panthera tigris tigris subspecies and the nominate tiger subspecies.[1] It ranks among the biggest wild cats alive today.[2][3] It is considered to belong to the world's charismatic megafauna.[4]\n",
    "\n",
    "The tiger is estimated to have been present in the Indian subcontinent since the Late Pleistocene, for about 12,000 to 16,500 years.[5][6][7] Today, it is threatened by poaching, loss and fragmentation of habitat, and was estimated at comprising fewer than 2,500 wild individuals by 2011. None of the Tiger Conservation Landscapes within its range is considered large enough to support an effective population of more than 250 adult individuals.[8]\n",
    "\n",
    "The Bengal tiger's historical range covered the Indus River valley until the early 19th century, almost all of India, Pakistan, southern Nepal, Bangladesh, Bhutan, and southwestern China. Today, it inhabits India, Bangladesh, Nepal, Bhutan, and southwestern China.[6] India's tiger population was estimated at 2,603–3,346 individuals by 2018.[9] Around 300–500 individuals are estimated in Bangladesh by 2015,[8] 355 in Nepal by 2022,[10] and 90 individuals in Bhutan by 2015.[11]\n",
    "\n",
    "Taxonomy\n",
    "Felis tigris was the scientific name used by Carl Linnaeus in 1758 for the tiger.[12] It was subordinated to the genus Panthera by Reginald Innes Pocock in 1929. Bengal is the traditional type locality of the species and the nominate subspecies Panthera tigris tigris.[13]\n",
    "\n",
    "The validity of several tiger subspecies in continental Asia was questioned in 1999. Morphologically, tigers from different regions vary little, and gene flow between populations in those regions is considered to have been possible during the Pleistocene. Therefore, it was proposed to recognise only two subspecies as valid, namely P. t. tigris in mainland Asia, and P. t. sondaica in the Greater Sunda Islands and possibly in Sundaland.[14] The nominate subspecies P. t. tigris constitutes two clades: the northern clade comprises the Siberian and Caspian tiger populations, and the southern clade all remaining continental tiger populations.[15] The extinct and living tiger populations in continental Asia have been subsumed to P. t. tigris since the revision of felid taxonomy in 2017.[1]\n",
    "\n",
    "Results of a genetic analysis of 32 tiger samples indicate that the Bengal tiger samples grouped into a different clade than the Siberian tiger samples.[16]\n",
    "\n",
    "Genetic ancestry\n",
    "The Bengal tiger is defined by three distinct mitochondrial nucleotide sites and 12 unique microsatellite alleles. The pattern of genetic variation in the Bengal tiger corresponds to the premise that it arrived in India approximately 12,000 years ago.[17] This is consistent with the lack of tiger fossils from the Indian subcontinent prior to the late Pleistocene, and the absence of tigers from Sri Lanka, which was separated from the subcontinent by rising sea levels in the early Holocene.[6]'''"
   ]
  },
  {
   "cell_type": "code",
   "execution_count": 7,
   "id": "5f18fa02",
   "metadata": {},
   "outputs": [
    {
     "name": "stdout",
     "output_type": "stream",
     "text": [
      "The Bengal tiger is a population of the Panthera tigris tigris subspecies and the nominate tiger subspecies.[1] It ranks among the biggest wild cats alive today.[2][3] It is considered to belong to the world's charismatic megafauna.[4]\n",
      "\n",
      "The tiger is estimated to have been present in the Indian subcontinent since the Late Pleistocene, for about 12,000 to 16,500 years.[5][6][7] Today, it is threatened by poaching, loss and fragmentation of habitat, and was estimated at comprising fewer than 2,500 wild individuals by 2011. None of the Tiger Conservation Landscapes within its range is considered large enough to support an effective population of more than 250 adult individuals.[8]\n",
      "\n",
      "The Bengal tiger's historical range covered the Indus River valley until the early 19th century, almost all of India, Pakistan, southern Nepal, Bangladesh, Bhutan, and southwestern China. Today, it inhabits India, Bangladesh, Nepal, Bhutan, and southwestern China.[6] India's tiger population was estimated at 2,603–3,346 individuals by 2018.[9] Around 300–500 individuals are estimated in Bangladesh by 2015,[8] 355 in Nepal by 2022,[10] and 90 individuals in Bhutan by 2015.[11]\n",
      "\n",
      "Taxonomy\n",
      "Felis tigris was the scientific name used by Carl Linnaeus in 1758 for the tiger.[12] It was subordinated to the genus Panthera by Reginald Innes Pocock in 1929. Bengal is the traditional type locality of the species and the nominate subspecies Panthera tigris tigris.[13]\n",
      "\n",
      "The validity of several tiger subspecies in continental Asia was questioned in 1999. Morphologically, tigers from different regions vary little, and gene flow between populations in those regions is considered to have been possible during the Pleistocene. Therefore, it was proposed to recognise only two subspecies as valid, namely P. t. tigris in mainland Asia, and P. t. sondaica in the Greater Sunda Islands and possibly in Sundaland.[14] The nominate subspecies P. t. tigris constitutes two clades: the northern clade comprises the Siberian and Caspian tiger populations, and the southern clade all remaining continental tiger populations.[15] The extinct and living tiger populations in continental Asia have been subsumed to P. t. tigris since the revision of felid taxonomy in 2017.[1]\n",
      "\n",
      "Results of a genetic analysis of 32 tiger samples indicate that the Bengal tiger samples grouped into a different clade than the Siberian tiger samples.[16]\n",
      "\n",
      "Genetic ancestry\n",
      "The Bengal tiger is defined by three distinct mitochondrial nucleotide sites and 12 unique microsatellite alleles. The pattern of genetic variation in the Bengal tiger corresponds to the premise that it arrived in India approximately 12,000 years ago.[17] This is consistent with the lack of tiger fossils from the Indian subcontinent prior to the late Pleistocene, and the absence of tigers from Sri Lanka, which was separated from the subcontinent by rising sea levels in the early Holocene.[6]\n"
     ]
    }
   ],
   "source": [
    "print(text)"
   ]
  },
  {
   "cell_type": "code",
   "execution_count": 8,
   "id": "d1c01eca",
   "metadata": {},
   "outputs": [
    {
     "name": "stdout",
     "output_type": "stream",
     "text": [
      "23\n"
     ]
    }
   ],
   "source": [
    "from nltk.tokenize import sent_tokenize\n",
    "sents = sent_tokenize(text)\n",
    "print(len(sents))"
   ]
  },
  {
   "cell_type": "code",
   "execution_count": 9,
   "id": "832c265e",
   "metadata": {},
   "outputs": [],
   "source": [
    "my_parser = PlaintextParser.from_string(text, Tokenizer(\"english\"))      # Initializing the parser"
   ]
  },
  {
   "cell_type": "code",
   "execution_count": 10,
   "id": "3190b4cf",
   "metadata": {},
   "outputs": [],
   "source": [
    "text_rank_summarizer = TextRankSummarizer()                              # Creating the object of the summarizer"
   ]
  },
  {
   "cell_type": "code",
   "execution_count": 11,
   "id": "6b83854a",
   "metadata": {},
   "outputs": [],
   "source": [
    "summary = text_rank_summarizer(my_parser.document, sentences_count = 3)  # Extracting the top three sentences"
   ]
  },
  {
   "cell_type": "code",
   "execution_count": 12,
   "id": "899b8b1b",
   "metadata": {},
   "outputs": [
    {
     "data": {
      "text/plain": [
       "3"
      ]
     },
     "execution_count": 12,
     "metadata": {},
     "output_type": "execute_result"
    }
   ],
   "source": [
    "len(summary)"
   ]
  },
  {
   "cell_type": "code",
   "execution_count": 13,
   "id": "84492fa4",
   "metadata": {},
   "outputs": [
    {
     "data": {
      "text/plain": [
       "(<Sentence: The Bengal tiger is a population of the Panthera tigris tigris subspecies and the nominate tiger subspecies.>,\n",
       " <Sentence: [14] The nominate subspecies P. t. tigris constitutes two clades: the northern clade comprises the Siberian and Caspian tiger populations, and the southern clade all remaining continental tiger populations.>,\n",
       " <Sentence: [17] This is consistent with the lack of tiger fossils from the Indian subcontinent prior to the late Pleistocene, and the absence of tigers from Sri Lanka, which was separated from the subcontinent by rising sea levels in the early Holocene.>)"
      ]
     },
     "execution_count": 13,
     "metadata": {},
     "output_type": "execute_result"
    }
   ],
   "source": [
    "summary"
   ]
  },
  {
   "cell_type": "code",
   "execution_count": 14,
   "id": "7f776739",
   "metadata": {},
   "outputs": [
    {
     "data": {
      "text/plain": [
       "(<Sentence: The Bengal tiger is a population of the Panthera tigris tigris subspecies and the nominate tiger subspecies.>,\n",
       " <Sentence: The tiger is estimated to have been present in the Indian subcontinent since the Late Pleistocene, for about 12,000 to 16,500 years.>,\n",
       " <Sentence: [14] The nominate subspecies P. t. tigris constitutes two clades: the northern clade comprises the Siberian and Caspian tiger populations, and the southern clade all remaining continental tiger populations.>,\n",
       " <Sentence: The pattern of genetic variation in the Bengal tiger corresponds to the premise that it arrived in India approximately 12,000 years ago.>,\n",
       " <Sentence: [17] This is consistent with the lack of tiger fossils from the Indian subcontinent prior to the late Pleistocene, and the absence of tigers from Sri Lanka, which was separated from the subcontinent by rising sea levels in the early Holocene.>)"
      ]
     },
     "execution_count": 14,
     "metadata": {},
     "output_type": "execute_result"
    }
   ],
   "source": [
    "summary = text_rank_summarizer(my_parser.document, sentences_count = 5)   # Extracting the top five sentences \n",
    "summary"
   ]
  },
  {
   "cell_type": "code",
   "execution_count": 15,
   "id": "56c0d5e9",
   "metadata": {},
   "outputs": [],
   "source": [
    "# Text Summarization Using the LexRank Algorithm"
   ]
  },
  {
   "cell_type": "code",
   "execution_count": 16,
   "id": "6ee4eb8f",
   "metadata": {},
   "outputs": [],
   "source": [
    "from sumy.summarizers.lex_rank import LexRankSummarizer                   # Importing the class"
   ]
  },
  {
   "cell_type": "code",
   "execution_count": 17,
   "id": "19671531",
   "metadata": {},
   "outputs": [],
   "source": [
    "lex_rank_summarizer = LexRankSummarizer()                                 # Creating the object of the summarizer"
   ]
  },
  {
   "cell_type": "code",
   "execution_count": 18,
   "id": "b169452e",
   "metadata": {},
   "outputs": [],
   "source": [
    "summary = lex_rank_summarizer(my_parser.document, sentences_count = 3)    # Extracting the top three sentences"
   ]
  },
  {
   "cell_type": "code",
   "execution_count": 19,
   "id": "451e121c",
   "metadata": {},
   "outputs": [
    {
     "name": "stdout",
     "output_type": "stream",
     "text": [
      "The Bengal tiger is a population of the Panthera tigris tigris subspecies and the nominate tiger subspecies. \n",
      "\n",
      "[9] Around 300–500 individuals are estimated in Bangladesh by 2015,[8] 355 in Nepal by 2022,[10] and 90 individuals in Bhutan by 2015. \n",
      "\n",
      "[15] The extinct and living tiger populations in continental Asia have been subsumed to P. t. tigris since the revision of felid taxonomy in 2017. \n",
      "\n"
     ]
    }
   ],
   "source": [
    "for x in summary:\n",
    "    print(x, \"\\n\")"
   ]
  },
  {
   "cell_type": "code",
   "execution_count": 20,
   "id": "d39d6d5b",
   "metadata": {},
   "outputs": [],
   "source": [
    "# Text Summarization Using the LsaSummarizer Algorithm"
   ]
  },
  {
   "cell_type": "code",
   "execution_count": 21,
   "id": "f8306dd4",
   "metadata": {},
   "outputs": [],
   "source": [
    "from sumy.summarizers.lsa import LsaSummarizer                            # Importing the class"
   ]
  },
  {
   "cell_type": "code",
   "execution_count": 22,
   "id": "0217d68d",
   "metadata": {},
   "outputs": [],
   "source": [
    "lsa_summarizer = LsaSummarizer()                                          # Creating the object of the summarizer"
   ]
  },
  {
   "cell_type": "code",
   "execution_count": 23,
   "id": "a66aff1a",
   "metadata": {},
   "outputs": [],
   "source": [
    "summary = lsa_summarizer(my_parser.document, sentences_count = 3)         # Extracting the top three sentences"
   ]
  },
  {
   "cell_type": "code",
   "execution_count": 24,
   "id": "705f4ff3",
   "metadata": {},
   "outputs": [
    {
     "name": "stdout",
     "output_type": "stream",
     "text": [
      "Today, it inhabits India, Bangladesh, Nepal, Bhutan, and southwestern China. \n",
      "\n",
      "[12] It was subordinated to the genus Panthera by Reginald Innes Pocock in 1929. \n",
      "\n",
      "Genetic ancestry The Bengal tiger is defined by three distinct mitochondrial nucleotide sites and 12 unique microsatellite alleles. \n",
      "\n"
     ]
    }
   ],
   "source": [
    "for x in summary:\n",
    "    print(x, \"\\n\")"
   ]
  },
  {
   "cell_type": "code",
   "execution_count": 25,
   "id": "9865f0aa",
   "metadata": {},
   "outputs": [],
   "source": [
    "# Indian Language Text Summarization Using the TextRank Algorithm"
   ]
  },
  {
   "cell_type": "code",
   "execution_count": 26,
   "id": "2aa1d0a3",
   "metadata": {},
   "outputs": [],
   "source": [
    "itext = ''''वाघ मार्जार कुळातील प्राणी असून भारताचा राष्ट्रीय प्राणी आहे[२]. मार्जार कुळातील सर्वात मोठा प्राणी म्हणून याची गणना होते व अन्न साखळीतील सर्वोच्च स्थान वाघ भूषवतो. वाघ या नावाची व्युत्पत्ती संस्कृत मधील 'व्याघ्र' या शब्दावरून आली आहे. इंग्रजीत वाघाला 'टायगर असे म्हणतात. मराठीत भल्या मोठ्या वाघाला 'ढाण्या' वाघ म्हणतात. वाघ हा शिकार करण्यात परिपक्व आहे.\n",
    "इ.स. २०१० पासून जगभरात २९ जुलै हा जागतिक व्याघ्र दिन म्हणून पाळला जातो. भारतात वाघ हा संरक्षित प्राणी असून त्याची शिकार करणे हा दंडनीय अपराध आहे.\n",
    "एके काळी पश्चिमेस पूर्व अँटोलिया [३]प्रदेश पासून अमूर नदी [४]पात्रात आणि दक्षिणेस हिमालयाच्या पायथ्यापासून सुली बेटांपर्यंतच्या बालीपर्यंत सर्वत्र वाघ पसरले. २० व्या शतकाच्या सुरुवातीस, वाघाची संख्या पूर्वीहून ९३% ने कमी झाली आहे तसेच पश्चिम आणि मध्य आशियात, जावा आणि बाली बेटांमधून आणि आग्नेय, दक्षिण आशिया आणि चीनच्या मोठ्या भागांतून लोप पावली आहे. सध्याची वाघ प्रजाती भारतीय उपखंड आणि सुमात्रावरील सायबेरियन समशीतोष्ण जंगलांपासून ते उप-उष्णकटिबंधीय व उष्णकटिबंधीय जंगलांपर्यंत पसरलेली आहे. १९८६ पासून वाघाला आययूसीएन रेड लिस्टमध्ये लुप्तप्राय प्रजाती म्हणून सूचीबद्ध केले आहे. २०१५ पर्यंत जगातील प्रौढ वाघांची संख्या ३०६२ ते ३९४८ असावी असा अंदाज आहे. भारतात सध्या सर्वात अधिक वाघांची संख्या आहे. वाघांची संख्या कमी होण्याच्या मुख्य कारणांमध्ये त्यांचे प्राकृतिक आवास स्थान नष्ट करणे, खंडित करणे आणि शिकार करणे समाविष्ट आहे. काही देशांमधील अधिक दाट लोकवस्ती चे अतिक्रमण या ठिकाणी कारणीभूत आहे.\n",
    "वाघाचे खरे माहेरघर हे भारत मानले जाते. आजही तेथे काही शेकड्यांनी वाघ शिल्लक आहेत. तिथून वाघ मांचूरिया चीन, आग्नेय अशियातून भारतात आला असे मानले जाते[ संदर्भ हवा ]. यातील बऱ्याच भागात पूर्वी वाघ मुबलक प्रमाणात आढळत होता परंतु शिकार व वसतिस्थानाचा नाश यांमुळे तेथून वाघ नामशेष झाला. जंगली वाघ हा आज प्रामुख्याने भारत, ब्रह्मदेश, थायलंड, चीन व रशिया या देशांत आढळतो तसेच प्राणिसंग्रहालयातील वाघ आज जगभर पोहोचले आहेत व ते वाघांच्या एकूण संख्येचा मोठा भाग आहेत. वाघ (पेंथेरा टायग्रिस) हा मांजर कुटुंब, फेलिडे याचा सर्वात मोठा जिवंत सदस्य आहे. हा शिकार करून खातो. हा आशिया, मुख्यतः भारत, भूतान, चीन, कोरिया आणि साइबेरियन रशियामध्ये राहतो. २०२० साली जंगली वाघांतील ७० टक्के वाघ भारतात आहेत. भारतामध्ये २०१४ मध्ये २२२६ वाघ होते. ४ वर्षांनी २०१८ मध्ये ही संख्या वाढून २९६७ वर पोचली.[५]\n",
    "वाघांची संख्या भारतात सर्वाधिक असली तरी भारतात देखील वाघ आज दुर्मिळ झाले असून त्यांची संख्या चिंताजनक आहे. भारतातील पंजाब, हरियाणा ही राज्ये सोडल्यास सर्व राज्यात वाघाचे थोडे थोडे अस्तित्व आहे.\n",
    "हिमालय व तराई विभाग - यात जम्मू आणि काश्मीर, हिमाचल प्रदेश, उत्तरांचल, उत्तरप्रदेश, बिहार, सिक्कीम, आसाम अरुणाचल प्रदेश व इशान्य भारतातील राज्ये येतात. यातील हिमालयाच्या तराई जंगलांमध्ये वाघांचे वसतीस्थान आहे.\n",
    "अरवली पर्वताच्या पूर्व भागातील शुष्क जंगलांमध्ये वाघांचे अस्तित्व आहे. यांत रणथंभोर सरिस्का सारखी राष्ट्रीय उद्याने येतात.\n",
    "सुंदरबन व ओडिशा .\n",
    "मध्य भारतातील पानगळी जंगलांमध्ये वाघांचे सर्वाधिक अस्तित्व आढळते. यात कान्हा, बांधवगड, मेळघाट(गुगमाळ्), ताडोबा यासारखी राष्ट्रीय उद्याने व अभयारण्ये येतात.\n",
    "सह्याद्री व मलबार किनारा यात प्रामुख्याने सह्याद्रीचा दक्षिण भाग येतो. बंदीपूर, मदुमलाई पेरियार इत्यादी. महाराष्ट्रातील सह्याद्रीत केवळ कोयना व चांदोली अभयारण्यात वाघांचे अस्तित्व आहे.[६]\n",
    "वाघाचे वसतिस्थान हे मुख्यत्वे दाट ते अतिशय घनदाट जंगलात असते. वाघाच्या शिकार करण्याच्या पद्धतीमुळे त्याने त्याचे वसतिस्थान निवडले असावे. राजस्थानातील शुष्क जंगले, तसेच सुंदरबनमधील खारफ़ुटीची जंगले, काझ़ीरंगातील गवताळ जंगल असे विविध प्रकारच्या जंगलात वाघाचे वास्तव्य आहे. तरीदेखील वाघ हा बिबट्यासारखा कोणत्याही प्रकारच्या जंगलात राहण्यास सरावला नाही. तसेच प्रत्येक वाघांचे शिकारीचे क्षेत्र हे बरेच मोठे असते (साधारणपणे १०० चौ.किमी). त्यामुळे वाघ साधारणपणे मोठी जंगले पसंत करतात. म्हणूनच पूर्वीच्या मध्यम आकाराच्या जंगलात वाघ दिसत व आज ती जंगले हे लहान झाल्यामुळे वाघांचे अस्तित्व संपृष्टात आले[ संदर्भ हवा ]. (उदा: महाराष्ट्रातील सह्याद्री व कोकणातील जंगले)\n",
    "नुकत्याच झालेल्या एका सर्वेक्षणानुसार,भारतात वाघांची संख्या वाढली असून ती आता २९६७ झाल्याचे सांगण्यात येते. तसेच, मध्य भारतातील, ताडोबा, पेंच, कान्हा व मेळघाट आदी जंगल परिसरात एकूण सुमारे ७१८ वाघ असल्याचे यात दृष्टीपथात आले.हे सर्वेक्षण 'वाईल्ड लाईफ कंझर्वेशन ट्रस्ट' तर्फे कॅमेरे लावून करण्यात आले.[ संदर्भ हवा ]\n",
    "वाघ हा वर नमूद केल्याप्रमाणे मार्जार कुळातील सर्वात मोठा प्राणी आहे. वाघाचा आकार हा स्थानिक परिस्थितीप्रमाणे कमी जास्त असतो. सायबेरीयन वाघ हा आकाराने मोठा असतो तर भारतीय वाघ त्या मानाने कमी भरतो. सायबेरीयन वाघ हा लांबीला ३.५ मीटर पर्यंत भरतो तर त्याचे वजन ३०० किलोपर्यंत असते. हा अपवाद झाला परंतु १९० -२०० सेमी पर्यंत लांब असतात व त्यांचे सरासरी वजन २२७ किलो पर्यंत असते. भारतीय वाघ साधारणपणे वजनात १०० ते १८० किलोपर्यंत भरतो. मादी ही नरापेक्षा लहान असते. सुमात्रा मधील वाघ हा अजूनच लहान असतो. वाघांची ओळखण्याची सर्वात मोठी खूण त्यांचे अंगावरचे पट्टे व तांबूस रंगाची फ़र असते. प्रत्येक वाघाचे अंगावरील पट्टे हे वेगळे असतात. जसे प्रत्येक माणसाचे ठसे वेगळे असतात त्याचप्रमाणे यावरून वाघांना ओळखता येते. वाघाच्या अंगावर साधारणपणे १०० पर्यंत पट्टे असतात. पट्ट्यांचा मुख्य उपयोग वाघांना दाट झाडींमध्ये सदृश होण्यासाठी होतो. पट्ट्यांबरोबरच प्रत्येक वाघाच्या पंज्याची ठेवणही वेगळी असते. वाघांची पारंपारिक गणना पंजाच्या ठश्यांवरूनच होते. वाघाचा पंजा हा वाघाच्या आकारमानाने खूप मोठा व अतिशय ताकदवान असतो. त्याचा व्यास साधारणपणे ६ ते ८ इंच इतका भरतो. जंगलातून फ़िरताना वाघ जरी दिसला नाही तरी वाघाचे ठसे दिसू शकतात. शिकार साधण्यासाठी वाघांचा जबडा जबरदस्त ताकदवान असतो व तो वर-खाली या दिशेत फिरतो. जबड्याची ताकद ते भक्ष्यामध्ये सुळे रुतवण्यासाठी तसेच भक्ष्याला पकडून ठेवणे, ओढून नेणे या कामासाठी वापरतात. वाघाची सर्वात जास्त ताकद त्याच्या जबड्यात असते असे म्हटल्यास वावगे ठरणार नाही. वाघ हे पट्टीचे पोहोणारे आहेत, म्हणजे त्यांची पोहोण्याची क्षमता चांगलीच असते व या बाबतीत इतर मांजरांपेक्षा वेगळी सवय आहे. वाघांना पाणी आवडते. उन्हाळ्याच्या दिवसात वाघ पाण्यात तासन तास डुंबून स्वतःला थंड ठेवतात.'''"
   ]
  },
  {
   "cell_type": "code",
   "execution_count": 27,
   "id": "7ca2404c",
   "metadata": {},
   "outputs": [
    {
     "name": "stdout",
     "output_type": "stream",
     "text": [
      "'वाघ मार्जार कुळातील प्राणी असून भारताचा राष्ट्रीय प्राणी आहे[२]. मार्जार कुळातील सर्वात मोठा प्राणी म्हणून याची गणना होते व अन्न साखळीतील सर्वोच्च स्थान वाघ भूषवतो. वाघ या नावाची व्युत्पत्ती संस्कृत मधील 'व्याघ्र' या शब्दावरून आली आहे. इंग्रजीत वाघाला 'टायगर असे म्हणतात. मराठीत भल्या मोठ्या वाघाला 'ढाण्या' वाघ म्हणतात. वाघ हा शिकार करण्यात परिपक्व आहे.\n",
      "इ.स. २०१० पासून जगभरात २९ जुलै हा जागतिक व्याघ्र दिन म्हणून पाळला जातो. भारतात वाघ हा संरक्षित प्राणी असून त्याची शिकार करणे हा दंडनीय अपराध आहे.\n",
      "एके काळी पश्चिमेस पूर्व अँटोलिया [३]प्रदेश पासून अमूर नदी [४]पात्रात आणि दक्षिणेस हिमालयाच्या पायथ्यापासून सुली बेटांपर्यंतच्या बालीपर्यंत सर्वत्र वाघ पसरले. २० व्या शतकाच्या सुरुवातीस, वाघाची संख्या पूर्वीहून ९३% ने कमी झाली आहे तसेच पश्चिम आणि मध्य आशियात, जावा आणि बाली बेटांमधून आणि आग्नेय, दक्षिण आशिया आणि चीनच्या मोठ्या भागांतून लोप पावली आहे. सध्याची वाघ प्रजाती भारतीय उपखंड आणि सुमात्रावरील सायबेरियन समशीतोष्ण जंगलांपासून ते उप-उष्णकटिबंधीय व उष्णकटिबंधीय जंगलांपर्यंत पसरलेली आहे. १९८६ पासून वाघाला आययूसीएन रेड लिस्टमध्ये लुप्तप्राय प्रजाती म्हणून सूचीबद्ध केले आहे. २०१५ पर्यंत जगातील प्रौढ वाघांची संख्या ३०६२ ते ३९४८ असावी असा अंदाज आहे. भारतात सध्या सर्वात अधिक वाघांची संख्या आहे. वाघांची संख्या कमी होण्याच्या मुख्य कारणांमध्ये त्यांचे प्राकृतिक आवास स्थान नष्ट करणे, खंडित करणे आणि शिकार करणे समाविष्ट आहे. काही देशांमधील अधिक दाट लोकवस्ती चे अतिक्रमण या ठिकाणी कारणीभूत आहे.\n",
      "वाघाचे खरे माहेरघर हे भारत मानले जाते. आजही तेथे काही शेकड्यांनी वाघ शिल्लक आहेत. तिथून वाघ मांचूरिया चीन, आग्नेय अशियातून भारतात आला असे मानले जाते[ संदर्भ हवा ]. यातील बऱ्याच भागात पूर्वी वाघ मुबलक प्रमाणात आढळत होता परंतु शिकार व वसतिस्थानाचा नाश यांमुळे तेथून वाघ नामशेष झाला. जंगली वाघ हा आज प्रामुख्याने भारत, ब्रह्मदेश, थायलंड, चीन व रशिया या देशांत आढळतो तसेच प्राणिसंग्रहालयातील वाघ आज जगभर पोहोचले आहेत व ते वाघांच्या एकूण संख्येचा मोठा भाग आहेत. वाघ (पेंथेरा टायग्रिस) हा मांजर कुटुंब, फेलिडे याचा सर्वात मोठा जिवंत सदस्य आहे. हा शिकार करून खातो. हा आशिया, मुख्यतः भारत, भूतान, चीन, कोरिया आणि साइबेरियन रशियामध्ये राहतो. २०२० साली जंगली वाघांतील ७० टक्के वाघ भारतात आहेत. भारतामध्ये २०१४ मध्ये २२२६ वाघ होते. ४ वर्षांनी २०१८ मध्ये ही संख्या वाढून २९६७ वर पोचली.[५]\n",
      "वाघांची संख्या भारतात सर्वाधिक असली तरी भारतात देखील वाघ आज दुर्मिळ झाले असून त्यांची संख्या चिंताजनक आहे. भारतातील पंजाब, हरियाणा ही राज्ये सोडल्यास सर्व राज्यात वाघाचे थोडे थोडे अस्तित्व आहे.\n",
      "हिमालय व तराई विभाग - यात जम्मू आणि काश्मीर, हिमाचल प्रदेश, उत्तरांचल, उत्तरप्रदेश, बिहार, सिक्कीम, आसाम अरुणाचल प्रदेश व इशान्य भारतातील राज्ये येतात. यातील हिमालयाच्या तराई जंगलांमध्ये वाघांचे वसतीस्थान आहे.\n",
      "अरवली पर्वताच्या पूर्व भागातील शुष्क जंगलांमध्ये वाघांचे अस्तित्व आहे. यांत रणथंभोर सरिस्का सारखी राष्ट्रीय उद्याने येतात.\n",
      "सुंदरबन व ओडिशा .\n",
      "मध्य भारतातील पानगळी जंगलांमध्ये वाघांचे सर्वाधिक अस्तित्व आढळते. यात कान्हा, बांधवगड, मेळघाट(गुगमाळ्), ताडोबा यासारखी राष्ट्रीय उद्याने व अभयारण्ये येतात.\n",
      "सह्याद्री व मलबार किनारा यात प्रामुख्याने सह्याद्रीचा दक्षिण भाग येतो. बंदीपूर, मदुमलाई पेरियार इत्यादी. महाराष्ट्रातील सह्याद्रीत केवळ कोयना व चांदोली अभयारण्यात वाघांचे अस्तित्व आहे.[६]\n",
      "वाघाचे वसतिस्थान हे मुख्यत्वे दाट ते अतिशय घनदाट जंगलात असते. वाघाच्या शिकार करण्याच्या पद्धतीमुळे त्याने त्याचे वसतिस्थान निवडले असावे. राजस्थानातील शुष्क जंगले, तसेच सुंदरबनमधील खारफ़ुटीची जंगले, काझ़ीरंगातील गवताळ जंगल असे विविध प्रकारच्या जंगलात वाघाचे वास्तव्य आहे. तरीदेखील वाघ हा बिबट्यासारखा कोणत्याही प्रकारच्या जंगलात राहण्यास सरावला नाही. तसेच प्रत्येक वाघांचे शिकारीचे क्षेत्र हे बरेच मोठे असते (साधारणपणे १०० चौ.किमी). त्यामुळे वाघ साधारणपणे मोठी जंगले पसंत करतात. म्हणूनच पूर्वीच्या मध्यम आकाराच्या जंगलात वाघ दिसत व आज ती जंगले हे लहान झाल्यामुळे वाघांचे अस्तित्व संपृष्टात आले[ संदर्भ हवा ]. (उदा: महाराष्ट्रातील सह्याद्री व कोकणातील जंगले)\n",
      "नुकत्याच झालेल्या एका सर्वेक्षणानुसार,भारतात वाघांची संख्या वाढली असून ती आता २९६७ झाल्याचे सांगण्यात येते. तसेच, मध्य भारतातील, ताडोबा, पेंच, कान्हा व मेळघाट आदी जंगल परिसरात एकूण सुमारे ७१८ वाघ असल्याचे यात दृष्टीपथात आले.हे सर्वेक्षण 'वाईल्ड लाईफ कंझर्वेशन ट्रस्ट' तर्फे कॅमेरे लावून करण्यात आले.[ संदर्भ हवा ]\n",
      "वाघ हा वर नमूद केल्याप्रमाणे मार्जार कुळातील सर्वात मोठा प्राणी आहे. वाघाचा आकार हा स्थानिक परिस्थितीप्रमाणे कमी जास्त असतो. सायबेरीयन वाघ हा आकाराने मोठा असतो तर भारतीय वाघ त्या मानाने कमी भरतो. सायबेरीयन वाघ हा लांबीला ३.५ मीटर पर्यंत भरतो तर त्याचे वजन ३०० किलोपर्यंत असते. हा अपवाद झाला परंतु १९० -२०० सेमी पर्यंत लांब असतात व त्यांचे सरासरी वजन २२७ किलो पर्यंत असते. भारतीय वाघ साधारणपणे वजनात १०० ते १८० किलोपर्यंत भरतो. मादी ही नरापेक्षा लहान असते. सुमात्रा मधील वाघ हा अजूनच लहान असतो. वाघांची ओळखण्याची सर्वात मोठी खूण त्यांचे अंगावरचे पट्टे व तांबूस रंगाची फ़र असते. प्रत्येक वाघाचे अंगावरील पट्टे हे वेगळे असतात. जसे प्रत्येक माणसाचे ठसे वेगळे असतात त्याचप्रमाणे यावरून वाघांना ओळखता येते. वाघाच्या अंगावर साधारणपणे १०० पर्यंत पट्टे असतात. पट्ट्यांचा मुख्य उपयोग वाघांना दाट झाडींमध्ये सदृश होण्यासाठी होतो. पट्ट्यांबरोबरच प्रत्येक वाघाच्या पंज्याची ठेवणही वेगळी असते. वाघांची पारंपारिक गणना पंजाच्या ठश्यांवरूनच होते. वाघाचा पंजा हा वाघाच्या आकारमानाने खूप मोठा व अतिशय ताकदवान असतो. त्याचा व्यास साधारणपणे ६ ते ८ इंच इतका भरतो. जंगलातून फ़िरताना वाघ जरी दिसला नाही तरी वाघाचे ठसे दिसू शकतात. शिकार साधण्यासाठी वाघांचा जबडा जबरदस्त ताकदवान असतो व तो वर-खाली या दिशेत फिरतो. जबड्याची ताकद ते भक्ष्यामध्ये सुळे रुतवण्यासाठी तसेच भक्ष्याला पकडून ठेवणे, ओढून नेणे या कामासाठी वापरतात. वाघाची सर्वात जास्त ताकद त्याच्या जबड्यात असते असे म्हटल्यास वावगे ठरणार नाही. वाघ हे पट्टीचे पोहोणारे आहेत, म्हणजे त्यांची पोहोण्याची क्षमता चांगलीच असते व या बाबतीत इतर मांजरांपेक्षा वेगळी सवय आहे. वाघांना पाणी आवडते. उन्हाळ्याच्या दिवसात वाघ पाण्यात तासन तास डुंबून स्वतःला थंड ठेवतात.\n"
     ]
    }
   ],
   "source": [
    "print(itext)"
   ]
  },
  {
   "cell_type": "code",
   "execution_count": 28,
   "id": "ee838e9a",
   "metadata": {},
   "outputs": [],
   "source": [
    "from sumy.summarizers.text_rank import TextRankSummarizer                # Importing the class"
   ]
  },
  {
   "cell_type": "code",
   "execution_count": 29,
   "id": "0489c3cd",
   "metadata": {},
   "outputs": [],
   "source": [
    "from sumy.parsers.plaintext import PlaintextParser                       # Importing a parser and a tokenizer\n",
    "from sumy.nlp.tokenizers import Tokenizer"
   ]
  },
  {
   "cell_type": "code",
   "execution_count": 30,
   "id": "2314f3a6",
   "metadata": {},
   "outputs": [],
   "source": [
    "my_parser = PlaintextParser.from_string(itext, Tokenizer(\"english\"))     # Initializing the parser"
   ]
  },
  {
   "cell_type": "code",
   "execution_count": 31,
   "id": "2f89beb8",
   "metadata": {},
   "outputs": [],
   "source": [
    "text_rank_summarizer = TextRankSummarizer()                              # Creating the object of the summarizer"
   ]
  },
  {
   "cell_type": "code",
   "execution_count": 32,
   "id": "0b689042",
   "metadata": {},
   "outputs": [],
   "source": [
    "summary = text_rank_summarizer(my_parser.document, sentences_count = 3)  # Extracting the top three sentences"
   ]
  },
  {
   "cell_type": "code",
   "execution_count": 33,
   "id": "87bede92",
   "metadata": {},
   "outputs": [
    {
     "data": {
      "text/plain": [
       "(<Sentence: जंगली वाघ हा आज प्रामुख्याने भारत, ब्रह्मदेश, थायलंड, चीन व रशिया या देशांत आढळतो तसेच प्राणिसंग्रहालयातील वाघ आज जगभर पोहोचले आहेत व ते वाघांच्या एकूण संख्येचा मोठा भाग आहेत.>,\n",
       " <Sentence: हिमालय व तराई विभाग - यात जम्मू आणि काश्मीर, हिमाचल प्रदेश, उत्तरांचल, उत्तरप्रदेश, बिहार, सिक्कीम, आसाम अरुणाचल प्रदेश व इशान्य भारतातील राज्ये येतात.>,\n",
       " <Sentence: म्हणूनच पूर्वीच्या मध्यम आकाराच्या जंगलात वाघ दिसत व आज ती जंगले हे लहान झाल्यामुळे वाघांचे अस्तित्व संपृष्टात आले[ संदर्भ हवा ].>)"
      ]
     },
     "execution_count": 33,
     "metadata": {},
     "output_type": "execute_result"
    }
   ],
   "source": [
    "summary"
   ]
  },
  {
   "cell_type": "markdown",
   "id": "990b9738",
   "metadata": {},
   "source": [
    "Abstractive Summarization"
   ]
  },
  {
   "cell_type": "code",
   "execution_count": 34,
   "id": "04b005a2",
   "metadata": {},
   "outputs": [
    {
     "name": "stdout",
     "output_type": "stream",
     "text": [
      "Requirement already satisfied: tensorflow in c:\\users\\souha\\anaconda3\\lib\\site-packages (2.16.1)\n",
      "Requirement already satisfied: tensorflow-intel==2.16.1 in c:\\users\\souha\\anaconda3\\lib\\site-packages (from tensorflow) (2.16.1)\n",
      "Requirement already satisfied: gast!=0.5.0,!=0.5.1,!=0.5.2,>=0.2.1 in c:\\users\\souha\\anaconda3\\lib\\site-packages (from tensorflow-intel==2.16.1->tensorflow) (0.5.4)\n",
      "Requirement already satisfied: setuptools in c:\\users\\souha\\anaconda3\\lib\\site-packages (from tensorflow-intel==2.16.1->tensorflow) (61.2.0)\n",
      "Requirement already satisfied: typing-extensions>=3.6.6 in c:\\users\\souha\\anaconda3\\lib\\site-packages (from tensorflow-intel==2.16.1->tensorflow) (4.11.0)\n",
      "Requirement already satisfied: protobuf!=4.21.0,!=4.21.1,!=4.21.2,!=4.21.3,!=4.21.4,!=4.21.5,<5.0.0dev,>=3.20.3 in c:\\users\\souha\\anaconda3\\lib\\site-packages (from tensorflow-intel==2.16.1->tensorflow) (4.25.3)\n",
      "Requirement already satisfied: numpy<2.0.0,>=1.23.5 in c:\\users\\souha\\anaconda3\\lib\\site-packages (from tensorflow-intel==2.16.1->tensorflow) (1.26.4)\n",
      "Requirement already satisfied: opt-einsum>=2.3.2 in c:\\users\\souha\\anaconda3\\lib\\site-packages (from tensorflow-intel==2.16.1->tensorflow) (3.3.0)\n",
      "Requirement already satisfied: h5py>=3.10.0 in c:\\users\\souha\\anaconda3\\lib\\site-packages (from tensorflow-intel==2.16.1->tensorflow) (3.11.0)\n",
      "Requirement already satisfied: astunparse>=1.6.0 in c:\\users\\souha\\anaconda3\\lib\\site-packages (from tensorflow-intel==2.16.1->tensorflow) (1.6.3)\n",
      "Requirement already satisfied: termcolor>=1.1.0 in c:\\users\\souha\\anaconda3\\lib\\site-packages (from tensorflow-intel==2.16.1->tensorflow) (2.4.0)\n",
      "Requirement already satisfied: grpcio<2.0,>=1.24.3 in c:\\users\\souha\\anaconda3\\lib\\site-packages (from tensorflow-intel==2.16.1->tensorflow) (1.64.0)\n",
      "Requirement already satisfied: tensorboard<2.17,>=2.16 in c:\\users\\souha\\anaconda3\\lib\\site-packages (from tensorflow-intel==2.16.1->tensorflow) (2.16.2)\n",
      "Requirement already satisfied: tensorflow-io-gcs-filesystem>=0.23.1 in c:\\users\\souha\\anaconda3\\lib\\site-packages (from tensorflow-intel==2.16.1->tensorflow) (0.31.0)\n",
      "Requirement already satisfied: packaging in c:\\users\\souha\\anaconda3\\lib\\site-packages (from tensorflow-intel==2.16.1->tensorflow) (21.3)\n",
      "Requirement already satisfied: six>=1.12.0 in c:\\users\\souha\\anaconda3\\lib\\site-packages (from tensorflow-intel==2.16.1->tensorflow) (1.16.0)\n",
      "Requirement already satisfied: ml-dtypes~=0.3.1 in c:\\users\\souha\\anaconda3\\lib\\site-packages (from tensorflow-intel==2.16.1->tensorflow) (0.3.2)\n",
      "Note: you may need to restart the kernel to use updated packages.Requirement already satisfied: wrapt>=1.11.0 in c:\\users\\souha\\anaconda3\\lib\\site-packages (from tensorflow-intel==2.16.1->tensorflow) (1.12.1)\n"
     ]
    },
    {
     "name": "stderr",
     "output_type": "stream",
     "text": [
      "WARNING: Ignoring invalid distribution -laysound (c:\\users\\souha\\anaconda3\\lib\\site-packages)\n",
      "WARNING: Ignoring invalid distribution -laysound (c:\\users\\souha\\anaconda3\\lib\\site-packages)\n",
      "WARNING: Ignoring invalid distribution -laysound (c:\\users\\souha\\anaconda3\\lib\\site-packages)\n",
      "WARNING: Ignoring invalid distribution -laysound (c:\\users\\souha\\anaconda3\\lib\\site-packages)\n",
      "WARNING: Ignoring invalid distribution -laysound (c:\\users\\souha\\anaconda3\\lib\\site-packages)\n",
      "WARNING: Ignoring invalid distribution -laysound (c:\\users\\souha\\anaconda3\\lib\\site-packages)\n"
     ]
    },
    {
     "name": "stdout",
     "output_type": "stream",
     "text": [
      "\n",
      "Requirement already satisfied: flatbuffers>=23.5.26 in c:\\users\\souha\\anaconda3\\lib\\site-packages (from tensorflow-intel==2.16.1->tensorflow) (24.3.25)\n",
      "Requirement already satisfied: absl-py>=1.0.0 in c:\\users\\souha\\anaconda3\\lib\\site-packages (from tensorflow-intel==2.16.1->tensorflow) (2.1.0)\n",
      "Requirement already satisfied: requests<3,>=2.21.0 in c:\\users\\souha\\anaconda3\\lib\\site-packages (from tensorflow-intel==2.16.1->tensorflow) (2.27.1)\n",
      "Requirement already satisfied: libclang>=13.0.0 in c:\\users\\souha\\anaconda3\\lib\\site-packages (from tensorflow-intel==2.16.1->tensorflow) (18.1.1)\n",
      "Requirement already satisfied: keras>=3.0.0 in c:\\users\\souha\\anaconda3\\lib\\site-packages (from tensorflow-intel==2.16.1->tensorflow) (3.3.3)\n",
      "Requirement already satisfied: google-pasta>=0.1.1 in c:\\users\\souha\\anaconda3\\lib\\site-packages (from tensorflow-intel==2.16.1->tensorflow) (0.2.0)\n",
      "Requirement already satisfied: wheel<1.0,>=0.23.0 in c:\\users\\souha\\anaconda3\\lib\\site-packages (from astunparse>=1.6.0->tensorflow-intel==2.16.1->tensorflow) (0.37.1)\n",
      "Requirement already satisfied: optree in c:\\users\\souha\\anaconda3\\lib\\site-packages (from keras>=3.0.0->tensorflow-intel==2.16.1->tensorflow) (0.11.0)\n",
      "Requirement already satisfied: rich in c:\\users\\souha\\anaconda3\\lib\\site-packages (from keras>=3.0.0->tensorflow-intel==2.16.1->tensorflow) (13.7.1)\n",
      "Requirement already satisfied: namex in c:\\users\\souha\\anaconda3\\lib\\site-packages (from keras>=3.0.0->tensorflow-intel==2.16.1->tensorflow) (0.0.8)\n",
      "Requirement already satisfied: urllib3<1.27,>=1.21.1 in c:\\users\\souha\\anaconda3\\lib\\site-packages (from requests<3,>=2.21.0->tensorflow-intel==2.16.1->tensorflow) (1.26.9)\n",
      "Requirement already satisfied: certifi>=2017.4.17 in c:\\users\\souha\\anaconda3\\lib\\site-packages (from requests<3,>=2.21.0->tensorflow-intel==2.16.1->tensorflow) (2021.10.8)\n",
      "Requirement already satisfied: charset-normalizer~=2.0.0 in c:\\users\\souha\\anaconda3\\lib\\site-packages (from requests<3,>=2.21.0->tensorflow-intel==2.16.1->tensorflow) (2.0.4)\n",
      "Requirement already satisfied: idna<4,>=2.5 in c:\\users\\souha\\anaconda3\\lib\\site-packages (from requests<3,>=2.21.0->tensorflow-intel==2.16.1->tensorflow) (3.3)\n",
      "Requirement already satisfied: tensorboard-data-server<0.8.0,>=0.7.0 in c:\\users\\souha\\anaconda3\\lib\\site-packages (from tensorboard<2.17,>=2.16->tensorflow-intel==2.16.1->tensorflow) (0.7.2)\n",
      "Requirement already satisfied: markdown>=2.6.8 in c:\\users\\souha\\anaconda3\\lib\\site-packages (from tensorboard<2.17,>=2.16->tensorflow-intel==2.16.1->tensorflow) (3.3.4)\n",
      "Requirement already satisfied: werkzeug>=1.0.1 in c:\\users\\souha\\anaconda3\\lib\\site-packages (from tensorboard<2.17,>=2.16->tensorflow-intel==2.16.1->tensorflow) (2.0.3)\n",
      "Requirement already satisfied: pyparsing!=3.0.5,>=2.0.2 in c:\\users\\souha\\anaconda3\\lib\\site-packages (from packaging->tensorflow-intel==2.16.1->tensorflow) (3.0.4)\n",
      "Requirement already satisfied: markdown-it-py>=2.2.0 in c:\\users\\souha\\anaconda3\\lib\\site-packages (from rich->keras>=3.0.0->tensorflow-intel==2.16.1->tensorflow) (3.0.0)\n",
      "Requirement already satisfied: pygments<3.0.0,>=2.13.0 in c:\\users\\souha\\anaconda3\\lib\\site-packages (from rich->keras>=3.0.0->tensorflow-intel==2.16.1->tensorflow) (2.18.0)\n",
      "Requirement already satisfied: mdurl~=0.1 in c:\\users\\souha\\anaconda3\\lib\\site-packages (from markdown-it-py>=2.2.0->rich->keras>=3.0.0->tensorflow-intel==2.16.1->tensorflow) (0.1.2)\n"
     ]
    }
   ],
   "source": [
    "pip install tensorflow"
   ]
  },
  {
   "cell_type": "code",
   "execution_count": 38,
   "id": "c1732097",
   "metadata": {},
   "outputs": [
    {
     "name": "stdout",
     "output_type": "stream",
     "text": [
      "Collecting tf-keras\n",
      "  Downloading tf_keras-2.16.0-py3-none-any.whl (1.7 MB)\n",
      "Requirement already satisfied: tensorflow<2.17,>=2.16 in c:\\users\\souha\\anaconda3\\lib\\site-packages (from tf-keras) (2.16.1)\n",
      "Requirement already satisfied: tensorflow-intel==2.16.1 in c:\\users\\souha\\anaconda3\\lib\\site-packages (from tensorflow<2.17,>=2.16->tf-keras) (2.16.1)\n",
      "Requirement already satisfied: numpy<2.0.0,>=1.23.5 in c:\\users\\souha\\anaconda3\\lib\\site-packages (from tensorflow-intel==2.16.1->tensorflow<2.17,>=2.16->tf-keras) (1.26.4)\n",
      "Requirement already satisfied: h5py>=3.10.0 in c:\\users\\souha\\anaconda3\\lib\\site-packages (from tensorflow-intel==2.16.1->tensorflow<2.17,>=2.16->tf-keras) (3.11.0)\n",
      "Requirement already satisfied: protobuf!=4.21.0,!=4.21.1,!=4.21.2,!=4.21.3,!=4.21.4,!=4.21.5,<5.0.0dev,>=3.20.3 in c:\\users\\souha\\anaconda3\\lib\\site-packages (from tensorflow-intel==2.16.1->tensorflow<2.17,>=2.16->tf-keras) (4.25.3)\n",
      "Requirement already satisfied: six>=1.12.0 in c:\\users\\souha\\anaconda3\\lib\\site-packages (from tensorflow-intel==2.16.1->tensorflow<2.17,>=2.16->tf-keras) (1.16.0)\n",
      "Requirement already satisfied: tensorflow-io-gcs-filesystem>=0.23.1 in c:\\users\\souha\\anaconda3\\lib\\site-packages (from tensorflow-intel==2.16.1->tensorflow<2.17,>=2.16->tf-keras) (0.31.0)\n",
      "Requirement already satisfied: astunparse>=1.6.0 in c:\\users\\souha\\anaconda3\\lib\\site-packages (from tensorflow-intel==2.16.1->tensorflow<2.17,>=2.16->tf-keras) (1.6.3)\n",
      "Requirement already satisfied: opt-einsum>=2.3.2 in c:\\users\\souha\\anaconda3\\lib\\site-packages (from tensorflow-intel==2.16.1->tensorflow<2.17,>=2.16->tf-keras) (3.3.0)\n",
      "Requirement already satisfied: tensorboard<2.17,>=2.16 in c:\\users\\souha\\anaconda3\\lib\\site-packages (from tensorflow-intel==2.16.1->tensorflow<2.17,>=2.16->tf-keras) (2.16.2)\n",
      "Requirement already satisfied: ml-dtypes~=0.3.1 in c:\\users\\souha\\anaconda3\\lib\\site-packages (from tensorflow-intel==2.16.1->tensorflow<2.17,>=2.16->tf-keras) (0.3.2)\n",
      "Requirement already satisfied: setuptools in c:\\users\\souha\\anaconda3\\lib\\site-packages (from tensorflow-intel==2.16.1->tensorflow<2.17,>=2.16->tf-keras) (61.2.0)\n",
      "Requirement already satisfied: absl-py>=1.0.0 in c:\\users\\souha\\anaconda3\\lib\\site-packages (from tensorflow-intel==2.16.1->tensorflow<2.17,>=2.16->tf-keras) (2.1.0)\n",
      "Requirement already satisfied: typing-extensions>=3.6.6 in c:\\users\\souha\\anaconda3\\lib\\site-packages (from tensorflow-intel==2.16.1->tensorflow<2.17,>=2.16->tf-keras) (4.11.0)\n",
      "Requirement already satisfied: packaging in c:\\users\\souha\\anaconda3\\lib\\site-packages (from tensorflow-intel==2.16.1->tensorflow<2.17,>=2.16->tf-keras) (21.3)\n",
      "Requirement already satisfied: flatbuffers>=23.5.26 in c:\\users\\souha\\anaconda3\\lib\\site-packages (from tensorflow-intel==2.16.1->tensorflow<2.17,>=2.16->tf-keras) (24.3.25)\n",
      "Requirement already satisfied: gast!=0.5.0,!=0.5.1,!=0.5.2,>=0.2.1 in c:\\users\\souha\\anaconda3\\lib\\site-packages (from tensorflow-intel==2.16.1->tensorflow<2.17,>=2.16->tf-keras) (0.5.4)\n",
      "Requirement already satisfied: wrapt>=1.11.0 in c:\\users\\souha\\anaconda3\\lib\\site-packages (from tensorflow-intel==2.16.1->tensorflow<2.17,>=2.16->tf-keras) (1.12.1)\n",
      "Requirement already satisfied: termcolor>=1.1.0 in c:\\users\\souha\\anaconda3\\lib\\site-packages (from tensorflow-intel==2.16.1->tensorflow<2.17,>=2.16->tf-keras) (2.4.0)\n",
      "Requirement already satisfied: keras>=3.0.0 in c:\\users\\souha\\anaconda3\\lib\\site-packages (from tensorflow-intel==2.16.1->tensorflow<2.17,>=2.16->tf-keras) (3.3.3)\n",
      "Requirement already satisfied: libclang>=13.0.0 in c:\\users\\souha\\anaconda3\\lib\\site-packages (from tensorflow-intel==2.16.1->tensorflow<2.17,>=2.16->tf-keras) (18.1.1)\n",
      "Requirement already satisfied: requests<3,>=2.21.0 in c:\\users\\souha\\anaconda3\\lib\\site-packages (from tensorflow-intel==2.16.1->tensorflow<2.17,>=2.16->tf-keras) (2.27.1)\n",
      "Requirement already satisfied: google-pasta>=0.1.1 in c:\\users\\souha\\anaconda3\\lib\\site-packages (from tensorflow-intel==2.16.1->tensorflow<2.17,>=2.16->tf-keras) (0.2.0)\n",
      "Requirement already satisfied: grpcio<2.0,>=1.24.3 in c:\\users\\souha\\anaconda3\\lib\\site-packages (from tensorflow-intel==2.16.1->tensorflow<2.17,>=2.16->tf-keras) (1.64.0)\n",
      "Requirement already satisfied: wheel<1.0,>=0.23.0 in c:\\users\\souha\\anaconda3\\lib\\site-packages (from astunparse>=1.6.0->tensorflow-intel==2.16.1->tensorflow<2.17,>=2.16->tf-keras) (0.37.1)\n",
      "Requirement already satisfied: optree in c:\\users\\souha\\anaconda3\\lib\\site-packages (from keras>=3.0.0->tensorflow-intel==2.16.1->tensorflow<2.17,>=2.16->tf-keras) (0.11.0)\n",
      "Requirement already satisfied: rich in c:\\users\\souha\\anaconda3\\lib\\site-packages (from keras>=3.0.0->tensorflow-intel==2.16.1->tensorflow<2.17,>=2.16->tf-keras) (13.7.1)\n",
      "Requirement already satisfied: namex in c:\\users\\souha\\anaconda3\\lib\\site-packages (from keras>=3.0.0->tensorflow-intel==2.16.1->tensorflow<2.17,>=2.16->tf-keras) (0.0.8)\n",
      "Requirement already satisfied: charset-normalizer~=2.0.0 in c:\\users\\souha\\anaconda3\\lib\\site-packages (from requests<3,>=2.21.0->tensorflow-intel==2.16.1->tensorflow<2.17,>=2.16->tf-keras) (2.0.4)\n",
      "Requirement already satisfied: certifi>=2017.4.17 in c:\\users\\souha\\anaconda3\\lib\\site-packages (from requests<3,>=2.21.0->tensorflow-intel==2.16.1->tensorflow<2.17,>=2.16->tf-keras) (2021.10.8)\n",
      "Requirement already satisfied: urllib3<1.27,>=1.21.1 in c:\\users\\souha\\anaconda3\\lib\\site-packages (from requests<3,>=2.21.0->tensorflow-intel==2.16.1->tensorflow<2.17,>=2.16->tf-keras) (1.26.9)\n",
      "Requirement already satisfied: idna<4,>=2.5 in c:\\users\\souha\\anaconda3\\lib\\site-packages (from requests<3,>=2.21.0->tensorflow-intel==2.16.1->tensorflow<2.17,>=2.16->tf-keras) (3.3)\n",
      "Requirement already satisfied: markdown>=2.6.8 in c:\\users\\souha\\anaconda3\\lib\\site-packages (from tensorboard<2.17,>=2.16->tensorflow-intel==2.16.1->tensorflow<2.17,>=2.16->tf-keras) (3.3.4)\n",
      "Requirement already satisfied: werkzeug>=1.0.1 in c:\\users\\souha\\anaconda3\\lib\\site-packages (from tensorboard<2.17,>=2.16->tensorflow-intel==2.16.1->tensorflow<2.17,>=2.16->tf-keras) (2.0.3)\n",
      "Requirement already satisfied: tensorboard-data-server<0.8.0,>=0.7.0 in c:\\users\\souha\\anaconda3\\lib\\site-packages (from tensorboard<2.17,>=2.16->tensorflow-intel==2.16.1->tensorflow<2.17,>=2.16->tf-keras) (0.7.2)\n",
      "Requirement already satisfied: pyparsing!=3.0.5,>=2.0.2 in c:\\users\\souha\\anaconda3\\lib\\site-packages (from packaging->tensorflow-intel==2.16.1->tensorflow<2.17,>=2.16->tf-keras) (3.0.4)\n",
      "Requirement already satisfied: markdown-it-py>=2.2.0 in c:\\users\\souha\\anaconda3\\lib\\site-packages (from rich->keras>=3.0.0->tensorflow-intel==2.16.1->tensorflow<2.17,>=2.16->tf-keras) (3.0.0)\n",
      "Requirement already satisfied: pygments<3.0.0,>=2.13.0 in c:\\users\\souha\\anaconda3\\lib\\site-packages (from rich->keras>=3.0.0->tensorflow-intel==2.16.1->tensorflow<2.17,>=2.16->tf-keras) (2.18.0)\n",
      "Requirement already satisfied: mdurl~=0.1 in c:\\users\\souha\\anaconda3\\lib\\site-packages (from markdown-it-py>=2.2.0->rich->keras>=3.0.0->tensorflow-intel==2.16.1->tensorflow<2.17,>=2.16->tf-keras) (0.1.2)\n",
      "Installing collected packages: tf-keras\n",
      "Successfully installed tf-keras-2.16.0\n",
      "Note: you may need to restart the kernel to use updated packages.\n"
     ]
    },
    {
     "name": "stderr",
     "output_type": "stream",
     "text": [
      "WARNING: Ignoring invalid distribution -laysound (c:\\users\\souha\\anaconda3\\lib\\site-packages)\n",
      "WARNING: Ignoring invalid distribution -laysound (c:\\users\\souha\\anaconda3\\lib\\site-packages)\n",
      "WARNING: Ignoring invalid distribution -laysound (c:\\users\\souha\\anaconda3\\lib\\site-packages)\n",
      "WARNING: Ignoring invalid distribution -laysound (c:\\users\\souha\\anaconda3\\lib\\site-packages)\n",
      "WARNING: Ignoring invalid distribution -laysound (c:\\users\\souha\\anaconda3\\lib\\site-packages)\n",
      "WARNING: Ignoring invalid distribution -laysound (c:\\users\\souha\\anaconda3\\lib\\site-packages)\n",
      "WARNING: Ignoring invalid distribution -laysound (c:\\users\\souha\\anaconda3\\lib\\site-packages)\n"
     ]
    }
   ],
   "source": [
    "pip install tf-keras"
   ]
  },
  {
   "cell_type": "code",
   "execution_count": 39,
   "id": "8d9fbd3f",
   "metadata": {},
   "outputs": [],
   "source": [
    "from transformers import pipeline                                        # Importing the class  "
   ]
  },
  {
   "cell_type": "code",
   "execution_count": 40,
   "id": "ff524feb",
   "metadata": {},
   "outputs": [
    {
     "name": "stderr",
     "output_type": "stream",
     "text": [
      "No model was supplied, defaulted to google-t5/t5-small and revision d769bba (https://huggingface.co/google-t5/t5-small).\n",
      "Using a pipeline without specifying a model name and revision in production is not recommended.\n"
     ]
    },
    {
     "name": "stdout",
     "output_type": "stream",
     "text": [
      "WARNING:tensorflow:From C:\\Users\\souha\\anaconda3\\lib\\site-packages\\tf_keras\\src\\losses.py:2976: The name tf.losses.sparse_softmax_cross_entropy is deprecated. Please use tf.compat.v1.losses.sparse_softmax_cross_entropy instead.\n",
      "\n"
     ]
    },
    {
     "data": {
      "application/vnd.jupyter.widget-view+json": {
       "model_id": "f038f3457d594bddb5fd31115e17b663",
       "version_major": 2,
       "version_minor": 0
      },
      "text/plain": [
       "model.safetensors:   0%|          | 0.00/242M [00:00<?, ?B/s]"
      ]
     },
     "metadata": {},
     "output_type": "display_data"
    },
    {
     "name": "stdout",
     "output_type": "stream",
     "text": [
      "WARNING:tensorflow:From C:\\Users\\souha\\anaconda3\\lib\\site-packages\\tf_keras\\src\\backend.py:873: The name tf.get_default_graph is deprecated. Please use tf.compat.v1.get_default_graph instead.\n",
      "\n"
     ]
    },
    {
     "name": "stderr",
     "output_type": "stream",
     "text": [
      "All PyTorch model weights were used when initializing TFT5ForConditionalGeneration.\n",
      "\n",
      "All the weights of TFT5ForConditionalGeneration were initialized from the PyTorch model.\n",
      "If your task is similar to the task the model of the checkpoint was trained on, you can already use TFT5ForConditionalGeneration for predictions without further training.\n"
     ]
    },
    {
     "data": {
      "application/vnd.jupyter.widget-view+json": {
       "model_id": "b52be6f57eb548ee90bb94cc9effc23b",
       "version_major": 2,
       "version_minor": 0
      },
      "text/plain": [
       "tokenizer_config.json:   0%|          | 0.00/2.32k [00:00<?, ?B/s]"
      ]
     },
     "metadata": {},
     "output_type": "display_data"
    },
    {
     "data": {
      "application/vnd.jupyter.widget-view+json": {
       "model_id": "24c0cf89566b4e2f80dbb9799f6c625a",
       "version_major": 2,
       "version_minor": 0
      },
      "text/plain": [
       "spiece.model:   0%|          | 0.00/792k [00:00<?, ?B/s]"
      ]
     },
     "metadata": {},
     "output_type": "display_data"
    },
    {
     "data": {
      "application/vnd.jupyter.widget-view+json": {
       "model_id": "06653c99431e4c5faf7de681757773d5",
       "version_major": 2,
       "version_minor": 0
      },
      "text/plain": [
       "tokenizer.json:   0%|          | 0.00/1.39M [00:00<?, ?B/s]"
      ]
     },
     "metadata": {},
     "output_type": "display_data"
    }
   ],
   "source": [
    "text_summarizer = pipeline(\"summarization\")                              # Creating the object of the summarizer"
   ]
  },
  {
   "cell_type": "code",
   "execution_count": 41,
   "id": "fea081cd",
   "metadata": {},
   "outputs": [],
   "source": [
    "text = '''The Bengal tiger is a population of the Panthera tigris tigris subspecies and the nominate tiger subspecies.[1] It ranks among the biggest wild cats alive today.[2][3] It is considered to belong to the world's charismatic megafauna.[4]\n",
    "\n",
    "The tiger is estimated to have been present in the Indian subcontinent since the Late Pleistocene, for about 12,000 to 16,500 years.[5][6][7] Today, it is threatened by poaching, loss and fragmentation of habitat, and was estimated at comprising fewer than 2,500 wild individuals by 2011. None of the Tiger Conservation Landscapes within its range is considered large enough to support an effective population of more than 250 adult individuals.[8]\n",
    "\n",
    "The Bengal tiger's historical range covered the Indus River valley until the early 19th century, almost all of India, Pakistan, southern Nepal, Bangladesh, Bhutan, and southwestern China. Today, it inhabits India, Bangladesh, Nepal, Bhutan, and southwestern China.[6] India's tiger population was estimated at 2,603–3,346 individuals by 2018.[9] Around 300–500 individuals are estimated in Bangladesh by 2015,[8] 355 in Nepal by 2022,[10] and 90 individuals in Bhutan by 2015.[11]\n",
    "\n",
    "Taxonomy\n",
    "Felis tigris was the scientific name used by Carl Linnaeus in 1758 for the tiger.[12] It was subordinated to the genus Panthera by Reginald Innes Pocock in 1929. Bengal is the traditional type locality of the species and the nominate subspecies Panthera tigris tigris.[13]\n",
    "\n",
    "The validity of several tiger subspecies in continental Asia was questioned in 1999. Morphologically, tigers from different regions vary little, and gene flow between populations in those regions is considered to have been possible during the Pleistocene. Therefore, it was proposed to recognise only two subspecies as valid, namely P. t. tigris in mainland Asia, and P. t. sondaica in the Greater Sunda Islands and possibly in Sundaland.[14] The nominate subspecies P. t. tigris constitutes two clades: the northern clade comprises the Siberian and Caspian tiger populations, and the southern clade all remaining continental tiger populations.[15] The extinct and living tiger populations in continental Asia have been subsumed to P. t. tigris since the revision of felid taxonomy in 2017.[1]\n",
    "\n",
    "Results of a genetic analysis of 32 tiger samples indicate that the Bengal tiger samples grouped into a different clade than the Siberian tiger samples.[16]\n",
    "\n",
    "Genetic ancestry\n",
    "The Bengal tiger is defined by three distinct mitochondrial nucleotide sites and 12 unique microsatellite alleles. The pattern of genetic variation in the Bengal tiger corresponds to the premise that it arrived in India approximately 12,000 years ago.[17] This is consistent with the lack of tiger fossils from the Indian subcontinent prior to the late Pleistocene, and the absence of tigers from Sri Lanka, which was separated from the subcontinent by rising sea levels in the early Holocene.[6]'''"
   ]
  },
  {
   "cell_type": "code",
   "execution_count": 42,
   "id": "2c6f950c",
   "metadata": {},
   "outputs": [
    {
     "name": "stdout",
     "output_type": "stream",
     "text": [
      "The Bengal tiger is a population of the Panthera tigris tigris subspecies and the nominate tiger subspecies.[1] It ranks among the biggest wild cats alive today.[2][3] It is considered to belong to the world's charismatic megafauna.[4]\n",
      "\n",
      "The tiger is estimated to have been present in the Indian subcontinent since the Late Pleistocene, for about 12,000 to 16,500 years.[5][6][7] Today, it is threatened by poaching, loss and fragmentation of habitat, and was estimated at comprising fewer than 2,500 wild individuals by 2011. None of the Tiger Conservation Landscapes within its range is considered large enough to support an effective population of more than 250 adult individuals.[8]\n",
      "\n",
      "The Bengal tiger's historical range covered the Indus River valley until the early 19th century, almost all of India, Pakistan, southern Nepal, Bangladesh, Bhutan, and southwestern China. Today, it inhabits India, Bangladesh, Nepal, Bhutan, and southwestern China.[6] India's tiger population was estimated at 2,603–3,346 individuals by 2018.[9] Around 300–500 individuals are estimated in Bangladesh by 2015,[8] 355 in Nepal by 2022,[10] and 90 individuals in Bhutan by 2015.[11]\n",
      "\n",
      "Taxonomy\n",
      "Felis tigris was the scientific name used by Carl Linnaeus in 1758 for the tiger.[12] It was subordinated to the genus Panthera by Reginald Innes Pocock in 1929. Bengal is the traditional type locality of the species and the nominate subspecies Panthera tigris tigris.[13]\n",
      "\n",
      "The validity of several tiger subspecies in continental Asia was questioned in 1999. Morphologically, tigers from different regions vary little, and gene flow between populations in those regions is considered to have been possible during the Pleistocene. Therefore, it was proposed to recognise only two subspecies as valid, namely P. t. tigris in mainland Asia, and P. t. sondaica in the Greater Sunda Islands and possibly in Sundaland.[14] The nominate subspecies P. t. tigris constitutes two clades: the northern clade comprises the Siberian and Caspian tiger populations, and the southern clade all remaining continental tiger populations.[15] The extinct and living tiger populations in continental Asia have been subsumed to P. t. tigris since the revision of felid taxonomy in 2017.[1]\n",
      "\n",
      "Results of a genetic analysis of 32 tiger samples indicate that the Bengal tiger samples grouped into a different clade than the Siberian tiger samples.[16]\n",
      "\n",
      "Genetic ancestry\n",
      "The Bengal tiger is defined by three distinct mitochondrial nucleotide sites and 12 unique microsatellite alleles. The pattern of genetic variation in the Bengal tiger corresponds to the premise that it arrived in India approximately 12,000 years ago.[17] This is consistent with the lack of tiger fossils from the Indian subcontinent prior to the late Pleistocene, and the absence of tigers from Sri Lanka, which was separated from the subcontinent by rising sea levels in the early Holocene.[6]\n"
     ]
    }
   ],
   "source": [
    "print(text)"
   ]
  },
  {
   "cell_type": "code",
   "execution_count": 46,
   "id": "c7617ff0",
   "metadata": {},
   "outputs": [],
   "source": [
    "output = text_summarizer(text, max_length = 400, min_length = 100)         # Extracting the summary for given parameters"
   ]
  },
  {
   "cell_type": "code",
   "execution_count": 47,
   "id": "78d3aa46",
   "metadata": {},
   "outputs": [
    {
     "name": "stdout",
     "output_type": "stream",
     "text": [
      "the Bengal tiger is estimated to have been present in the Indian subcontinent since the late Pleistocene, for about 12,000 to 16,500 years . it is threatened by poaching, loss and fragmentation of habitat, and was estimated at comprising fewer than 2,500 wild individuals by 2011 . the tigris is the traditional type locality of the species and the nominate subspecies P. t. tigrons constitutes two clades: the northern clade comprises the Siberian\n"
     ]
    }
   ],
   "source": [
    "print(output[0][\"summary_text\"])"
   ]
  },
  {
   "cell_type": "code",
   "execution_count": null,
   "id": "ccdef064",
   "metadata": {},
   "outputs": [],
   "source": []
  }
 ],
 "metadata": {
  "kernelspec": {
   "display_name": "Python 3 (ipykernel)",
   "language": "python",
   "name": "python3"
  },
  "language_info": {
   "codemirror_mode": {
    "name": "ipython",
    "version": 3
   },
   "file_extension": ".py",
   "mimetype": "text/x-python",
   "name": "python",
   "nbconvert_exporter": "python",
   "pygments_lexer": "ipython3",
   "version": "3.9.12"
  }
 },
 "nbformat": 4,
 "nbformat_minor": 5
}
