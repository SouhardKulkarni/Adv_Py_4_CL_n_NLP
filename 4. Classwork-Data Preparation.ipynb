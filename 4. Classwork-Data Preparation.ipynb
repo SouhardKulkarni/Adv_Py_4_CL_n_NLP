{
 "cells": [
  {
   "cell_type": "code",
   "execution_count": null,
   "id": "2bc83da2",
   "metadata": {},
   "outputs": [],
   "source": [
    "# Name: Souhard Kulkarni      Enrolment number: 14"
   ]
  },
  {
   "cell_type": "markdown",
   "id": "7ae0679b",
   "metadata": {},
   "source": [
    "Bag of Words"
   ]
  },
  {
   "cell_type": "code",
   "execution_count": 1,
   "id": "619858c7",
   "metadata": {},
   "outputs": [],
   "source": [
    "from nltk.tokenize import word_tokenize\n",
    "import pandas as pd"
   ]
  },
  {
   "cell_type": "code",
   "execution_count": 2,
   "id": "b7c7e170",
   "metadata": {},
   "outputs": [],
   "source": [
    "sentence_1 = \"it was a good practice for us\"                          # Code to find the list of all unique words present in the\n",
    "sentence_2 = \"it was also good to know about it\"                      # three given strings\n",
    "sentence_3 = \"for all of us they have done a good practice\""
   ]
  },
  {
   "cell_type": "code",
   "execution_count": 3,
   "id": "26e3416d",
   "metadata": {},
   "outputs": [],
   "source": [
    "unique_word_list = set(sentence_1.split() + sentence_2.split() + sentence_3.split())"
   ]
  },
  {
   "cell_type": "code",
   "execution_count": 4,
   "id": "2d4fad0f",
   "metadata": {},
   "outputs": [
    {
     "name": "stdout",
     "output_type": "stream",
     "text": [
      "{'it', 'for', 'practice', 'all', 'have', 'done', 'us', 'to', 'was', 'about', 'know', 'good', 'also', 'they', 'a', 'of'}\n"
     ]
    }
   ],
   "source": [
    "print(unique_word_list)"
   ]
  },
  {
   "cell_type": "code",
   "execution_count": 5,
   "id": "dcba77bc",
   "metadata": {},
   "outputs": [
    {
     "data": {
      "text/plain": [
       "16"
      ]
     },
     "execution_count": 5,
     "metadata": {},
     "output_type": "execute_result"
    }
   ],
   "source": [
    "len(unique_word_list)"
   ]
  },
  {
   "cell_type": "code",
   "execution_count": 6,
   "id": "f1c9045a",
   "metadata": {},
   "outputs": [],
   "source": [
    "sentence_1 = \"it was a good practice for us.\"\n",
    "sentence_2 = \"it was also good to know about it.\"\n",
    "sentence_3 = \"for all of us, they have done a good practice.\""
   ]
  },
  {
   "cell_type": "code",
   "execution_count": 7,
   "id": "b7d638ca",
   "metadata": {},
   "outputs": [],
   "source": [
    "unique_word_list = set(word_tokenize(sentence_1) + word_tokenize(sentence_2) + word_tokenize(sentence_3))"
   ]
  },
  {
   "cell_type": "code",
   "execution_count": 8,
   "id": "9a7ca623",
   "metadata": {},
   "outputs": [
    {
     "name": "stdout",
     "output_type": "stream",
     "text": [
      "{'it', 'for', 'practice', '.', 'all', 'have', 'done', 'us', 'to', 'was', 'about', ',', 'know', 'good', 'also', 'they', 'a', 'of'}\n"
     ]
    }
   ],
   "source": [
    "print(unique_word_list)"
   ]
  },
  {
   "cell_type": "code",
   "execution_count": 9,
   "id": "6cafd278",
   "metadata": {},
   "outputs": [
    {
     "data": {
      "text/plain": [
       "18"
      ]
     },
     "execution_count": 9,
     "metadata": {},
     "output_type": "execute_result"
    }
   ],
   "source": [
    "len(unique_word_list)"
   ]
  },
  {
   "cell_type": "code",
   "execution_count": 10,
   "id": "4285c5b8",
   "metadata": {},
   "outputs": [],
   "source": [
    "sentence_1 = \"It was a good practice for us.\"\n",
    "sentence_2 = \"It was also good to know about it.\"\n",
    "sentence_3 = \"For all of us, they have done a good practice.\""
   ]
  },
  {
   "cell_type": "code",
   "execution_count": 11,
   "id": "0f118f25",
   "metadata": {},
   "outputs": [],
   "source": [
    "unique_word_list = set(word_tokenize(sentence_1.lower()) + word_tokenize(sentence_2.lower()) + word_tokenize(sentence_3.lower()))"
   ]
  },
  {
   "cell_type": "code",
   "execution_count": 12,
   "id": "80937e5f",
   "metadata": {},
   "outputs": [
    {
     "name": "stdout",
     "output_type": "stream",
     "text": [
      "{'it', 'for', 'practice', '.', 'all', 'have', 'done', 'us', 'to', 'was', 'about', ',', 'know', 'good', 'also', 'they', 'a', 'of'}\n"
     ]
    }
   ],
   "source": [
    "print(unique_word_list)"
   ]
  },
  {
   "cell_type": "code",
   "execution_count": 13,
   "id": "ecb52696",
   "metadata": {},
   "outputs": [
    {
     "data": {
      "text/plain": [
       "18"
      ]
     },
     "execution_count": 13,
     "metadata": {},
     "output_type": "execute_result"
    }
   ],
   "source": [
    "len(unique_word_list)"
   ]
  },
  {
   "cell_type": "code",
   "execution_count": 14,
   "id": "7f85a115",
   "metadata": {},
   "outputs": [],
   "source": [
    "tokens = set(unique_word_list)"
   ]
  },
  {
   "cell_type": "code",
   "execution_count": 15,
   "id": "f9d3e603",
   "metadata": {},
   "outputs": [
    {
     "data": {
      "text/plain": [
       "{',',\n",
       " '.',\n",
       " 'a',\n",
       " 'about',\n",
       " 'all',\n",
       " 'also',\n",
       " 'done',\n",
       " 'for',\n",
       " 'good',\n",
       " 'have',\n",
       " 'it',\n",
       " 'know',\n",
       " 'of',\n",
       " 'practice',\n",
       " 'they',\n",
       " 'to',\n",
       " 'us',\n",
       " 'was'}"
      ]
     },
     "execution_count": 15,
     "metadata": {},
     "output_type": "execute_result"
    }
   ],
   "source": [
    "tokens"
   ]
  },
  {
   "cell_type": "code",
   "execution_count": 16,
   "id": "91ef31d3",
   "metadata": {},
   "outputs": [
    {
     "data": {
      "text/html": [
       "<div>\n",
       "<style scoped>\n",
       "    .dataframe tbody tr th:only-of-type {\n",
       "        vertical-align: middle;\n",
       "    }\n",
       "\n",
       "    .dataframe tbody tr th {\n",
       "        vertical-align: top;\n",
       "    }\n",
       "\n",
       "    .dataframe thead th {\n",
       "        text-align: right;\n",
       "    }\n",
       "</style>\n",
       "<table border=\"1\" class=\"dataframe\">\n",
       "  <thead>\n",
       "    <tr style=\"text-align: right;\">\n",
       "      <th></th>\n",
       "      <th>it</th>\n",
       "      <th>all</th>\n",
       "      <th>done</th>\n",
       "      <th>was</th>\n",
       "      <th>,</th>\n",
       "      <th>know</th>\n",
       "      <th>good</th>\n",
       "      <th>they</th>\n",
       "      <th>to</th>\n",
       "      <th>for</th>\n",
       "      <th>practice</th>\n",
       "      <th>.</th>\n",
       "      <th>have</th>\n",
       "      <th>us</th>\n",
       "      <th>about</th>\n",
       "      <th>also</th>\n",
       "      <th>a</th>\n",
       "      <th>of</th>\n",
       "    </tr>\n",
       "  </thead>\n",
       "  <tbody>\n",
       "    <tr>\n",
       "      <th>1</th>\n",
       "      <td>NaN</td>\n",
       "      <td>NaN</td>\n",
       "      <td>NaN</td>\n",
       "      <td>NaN</td>\n",
       "      <td>NaN</td>\n",
       "      <td>NaN</td>\n",
       "      <td>NaN</td>\n",
       "      <td>NaN</td>\n",
       "      <td>NaN</td>\n",
       "      <td>NaN</td>\n",
       "      <td>NaN</td>\n",
       "      <td>NaN</td>\n",
       "      <td>NaN</td>\n",
       "      <td>NaN</td>\n",
       "      <td>NaN</td>\n",
       "      <td>NaN</td>\n",
       "      <td>NaN</td>\n",
       "      <td>NaN</td>\n",
       "    </tr>\n",
       "    <tr>\n",
       "      <th>2</th>\n",
       "      <td>NaN</td>\n",
       "      <td>NaN</td>\n",
       "      <td>NaN</td>\n",
       "      <td>NaN</td>\n",
       "      <td>NaN</td>\n",
       "      <td>NaN</td>\n",
       "      <td>NaN</td>\n",
       "      <td>NaN</td>\n",
       "      <td>NaN</td>\n",
       "      <td>NaN</td>\n",
       "      <td>NaN</td>\n",
       "      <td>NaN</td>\n",
       "      <td>NaN</td>\n",
       "      <td>NaN</td>\n",
       "      <td>NaN</td>\n",
       "      <td>NaN</td>\n",
       "      <td>NaN</td>\n",
       "      <td>NaN</td>\n",
       "    </tr>\n",
       "    <tr>\n",
       "      <th>3</th>\n",
       "      <td>NaN</td>\n",
       "      <td>NaN</td>\n",
       "      <td>NaN</td>\n",
       "      <td>NaN</td>\n",
       "      <td>NaN</td>\n",
       "      <td>NaN</td>\n",
       "      <td>NaN</td>\n",
       "      <td>NaN</td>\n",
       "      <td>NaN</td>\n",
       "      <td>NaN</td>\n",
       "      <td>NaN</td>\n",
       "      <td>NaN</td>\n",
       "      <td>NaN</td>\n",
       "      <td>NaN</td>\n",
       "      <td>NaN</td>\n",
       "      <td>NaN</td>\n",
       "      <td>NaN</td>\n",
       "      <td>NaN</td>\n",
       "    </tr>\n",
       "  </tbody>\n",
       "</table>\n",
       "</div>"
      ],
      "text/plain": [
       "    it  all done  was    , know good they   to  for practice    . have   us  \\\n",
       "1  NaN  NaN  NaN  NaN  NaN  NaN  NaN  NaN  NaN  NaN      NaN  NaN  NaN  NaN   \n",
       "2  NaN  NaN  NaN  NaN  NaN  NaN  NaN  NaN  NaN  NaN      NaN  NaN  NaN  NaN   \n",
       "3  NaN  NaN  NaN  NaN  NaN  NaN  NaN  NaN  NaN  NaN      NaN  NaN  NaN  NaN   \n",
       "\n",
       "  about also    a   of  \n",
       "1   NaN  NaN  NaN  NaN  \n",
       "2   NaN  NaN  NaN  NaN  \n",
       "3   NaN  NaN  NaN  NaN  "
      ]
     },
     "execution_count": 16,
     "metadata": {},
     "output_type": "execute_result"
    }
   ],
   "source": [
    "df = pd.DataFrame(columns = list(tokens), index = [1, 2, 3])\n",
    "df"
   ]
  },
  {
   "cell_type": "code",
   "execution_count": 17,
   "id": "c5cc2b02",
   "metadata": {},
   "outputs": [],
   "source": [
    "tokens1 = word_tokenize(sentence_1.lower())\n",
    "tokens2 = word_tokenize(sentence_2.lower())\n",
    "tokens3 = word_tokenize(sentence_3.lower())"
   ]
  },
  {
   "cell_type": "code",
   "execution_count": 18,
   "id": "8395c64b",
   "metadata": {},
   "outputs": [
    {
     "data": {
      "text/plain": [
       "(['it', 'was', 'a', 'good', 'practice', 'for', 'us', '.'],\n",
       " ['it', 'was', 'also', 'good', 'to', 'know', 'about', 'it', '.'],\n",
       " ['for',\n",
       "  'all',\n",
       "  'of',\n",
       "  'us',\n",
       "  ',',\n",
       "  'they',\n",
       "  'have',\n",
       "  'done',\n",
       "  'a',\n",
       "  'good',\n",
       "  'practice',\n",
       "  '.'])"
      ]
     },
     "execution_count": 18,
     "metadata": {},
     "output_type": "execute_result"
    }
   ],
   "source": [
    "tokens1, tokens2, tokens3"
   ]
  },
  {
   "cell_type": "code",
   "execution_count": 19,
   "id": "052adcaf",
   "metadata": {},
   "outputs": [],
   "source": [
    "counts1 = [tokens1.count(x) for x in df.columns]\n",
    "counts2 = [tokens2.count(x) for x in df.columns]\n",
    "counts3 = [tokens3.count(x) for x in df.columns]"
   ]
  },
  {
   "cell_type": "code",
   "execution_count": 20,
   "id": "194a47ba",
   "metadata": {},
   "outputs": [
    {
     "data": {
      "text/plain": [
       "([1, 0, 0, 1, 0, 0, 1, 0, 0, 1, 1, 1, 0, 1, 0, 0, 1, 0],\n",
       " [2, 0, 0, 1, 0, 1, 1, 0, 1, 0, 0, 1, 0, 0, 1, 1, 0, 0],\n",
       " [0, 1, 1, 0, 1, 0, 1, 1, 0, 1, 1, 1, 1, 1, 0, 0, 1, 1])"
      ]
     },
     "execution_count": 20,
     "metadata": {},
     "output_type": "execute_result"
    }
   ],
   "source": [
    "counts1, counts2, counts3"
   ]
  },
  {
   "cell_type": "code",
   "execution_count": 21,
   "id": "2f985aae",
   "metadata": {},
   "outputs": [],
   "source": [
    "df.iloc[0, :] = counts1\n",
    "df.iloc[1, :] = counts2\n",
    "df.iloc[2, :] = counts3"
   ]
  },
  {
   "cell_type": "code",
   "execution_count": 22,
   "id": "7d08ad7c",
   "metadata": {},
   "outputs": [
    {
     "data": {
      "text/html": [
       "<div>\n",
       "<style scoped>\n",
       "    .dataframe tbody tr th:only-of-type {\n",
       "        vertical-align: middle;\n",
       "    }\n",
       "\n",
       "    .dataframe tbody tr th {\n",
       "        vertical-align: top;\n",
       "    }\n",
       "\n",
       "    .dataframe thead th {\n",
       "        text-align: right;\n",
       "    }\n",
       "</style>\n",
       "<table border=\"1\" class=\"dataframe\">\n",
       "  <thead>\n",
       "    <tr style=\"text-align: right;\">\n",
       "      <th></th>\n",
       "      <th>it</th>\n",
       "      <th>all</th>\n",
       "      <th>done</th>\n",
       "      <th>was</th>\n",
       "      <th>,</th>\n",
       "      <th>know</th>\n",
       "      <th>good</th>\n",
       "      <th>they</th>\n",
       "      <th>to</th>\n",
       "      <th>for</th>\n",
       "      <th>practice</th>\n",
       "      <th>.</th>\n",
       "      <th>have</th>\n",
       "      <th>us</th>\n",
       "      <th>about</th>\n",
       "      <th>also</th>\n",
       "      <th>a</th>\n",
       "      <th>of</th>\n",
       "    </tr>\n",
       "  </thead>\n",
       "  <tbody>\n",
       "    <tr>\n",
       "      <th>1</th>\n",
       "      <td>1</td>\n",
       "      <td>0</td>\n",
       "      <td>0</td>\n",
       "      <td>1</td>\n",
       "      <td>0</td>\n",
       "      <td>0</td>\n",
       "      <td>1</td>\n",
       "      <td>0</td>\n",
       "      <td>0</td>\n",
       "      <td>1</td>\n",
       "      <td>1</td>\n",
       "      <td>1</td>\n",
       "      <td>0</td>\n",
       "      <td>1</td>\n",
       "      <td>0</td>\n",
       "      <td>0</td>\n",
       "      <td>1</td>\n",
       "      <td>0</td>\n",
       "    </tr>\n",
       "    <tr>\n",
       "      <th>2</th>\n",
       "      <td>2</td>\n",
       "      <td>0</td>\n",
       "      <td>0</td>\n",
       "      <td>1</td>\n",
       "      <td>0</td>\n",
       "      <td>1</td>\n",
       "      <td>1</td>\n",
       "      <td>0</td>\n",
       "      <td>1</td>\n",
       "      <td>0</td>\n",
       "      <td>0</td>\n",
       "      <td>1</td>\n",
       "      <td>0</td>\n",
       "      <td>0</td>\n",
       "      <td>1</td>\n",
       "      <td>1</td>\n",
       "      <td>0</td>\n",
       "      <td>0</td>\n",
       "    </tr>\n",
       "    <tr>\n",
       "      <th>3</th>\n",
       "      <td>0</td>\n",
       "      <td>1</td>\n",
       "      <td>1</td>\n",
       "      <td>0</td>\n",
       "      <td>1</td>\n",
       "      <td>0</td>\n",
       "      <td>1</td>\n",
       "      <td>1</td>\n",
       "      <td>0</td>\n",
       "      <td>1</td>\n",
       "      <td>1</td>\n",
       "      <td>1</td>\n",
       "      <td>1</td>\n",
       "      <td>1</td>\n",
       "      <td>0</td>\n",
       "      <td>0</td>\n",
       "      <td>1</td>\n",
       "      <td>1</td>\n",
       "    </tr>\n",
       "  </tbody>\n",
       "</table>\n",
       "</div>"
      ],
      "text/plain": [
       "  it all done was  , know good they to for practice  . have us about also  a  \\\n",
       "1  1   0    0   1  0    0    1    0  0   1        1  1    0  1     0    0  1   \n",
       "2  2   0    0   1  0    1    1    0  1   0        0  1    0  0     1    1  0   \n",
       "3  0   1    1   0  1    0    1    1  0   1        1  1    1  1     0    0  1   \n",
       "\n",
       "  of  \n",
       "1  0  \n",
       "2  0  \n",
       "3  1  "
      ]
     },
     "execution_count": 22,
     "metadata": {},
     "output_type": "execute_result"
    }
   ],
   "source": [
    "df"
   ]
  },
  {
   "cell_type": "code",
   "execution_count": 23,
   "id": "d926c95b",
   "metadata": {},
   "outputs": [],
   "source": [
    "from sklearn.feature_extraction.text import CountVectorizer               # Importing the class Count Vectorizer"
   ]
  },
  {
   "cell_type": "code",
   "execution_count": 24,
   "id": "f6c1854b",
   "metadata": {},
   "outputs": [],
   "source": [
    "cv = CountVectorizer()                                                    # Creating the object of the count vectorizer"
   ]
  },
  {
   "cell_type": "code",
   "execution_count": 25,
   "id": "ecb811a1",
   "metadata": {},
   "outputs": [],
   "source": [
    "mydata = cv.fit_transform([sentence_1, sentence_2, sentence_3])           # Applying the Bag of Words method"
   ]
  },
  {
   "cell_type": "code",
   "execution_count": 26,
   "id": "abd00ce3",
   "metadata": {},
   "outputs": [
    {
     "data": {
      "text/plain": [
       "array([[0, 0, 0, 0, 1, 1, 0, 1, 0, 0, 1, 0, 0, 1, 1],\n",
       "       [1, 0, 1, 0, 0, 1, 0, 2, 1, 0, 0, 0, 1, 0, 1],\n",
       "       [0, 1, 0, 1, 1, 1, 1, 0, 0, 1, 1, 1, 0, 1, 0]], dtype=int64)"
      ]
     },
     "execution_count": 26,
     "metadata": {},
     "output_type": "execute_result"
    }
   ],
   "source": [
    "mydata.toarray()"
   ]
  },
  {
   "cell_type": "code",
   "execution_count": 27,
   "id": "6be181bd",
   "metadata": {},
   "outputs": [
    {
     "data": {
      "text/plain": [
       "array(['about', 'all', 'also', 'done', 'for', 'good', 'have', 'it',\n",
       "       'know', 'of', 'practice', 'they', 'to', 'us', 'was'], dtype=object)"
      ]
     },
     "execution_count": 27,
     "metadata": {},
     "output_type": "execute_result"
    }
   ],
   "source": [
    "cv.get_feature_names_out()"
   ]
  },
  {
   "cell_type": "code",
   "execution_count": 28,
   "id": "c0f74208",
   "metadata": {},
   "outputs": [],
   "source": [
    "df = pd.DataFrame(data = mydata.toarray(), columns = cv.get_feature_names_out())"
   ]
  },
  {
   "cell_type": "code",
   "execution_count": 29,
   "id": "dcf52d3d",
   "metadata": {},
   "outputs": [
    {
     "data": {
      "text/html": [
       "<div>\n",
       "<style scoped>\n",
       "    .dataframe tbody tr th:only-of-type {\n",
       "        vertical-align: middle;\n",
       "    }\n",
       "\n",
       "    .dataframe tbody tr th {\n",
       "        vertical-align: top;\n",
       "    }\n",
       "\n",
       "    .dataframe thead th {\n",
       "        text-align: right;\n",
       "    }\n",
       "</style>\n",
       "<table border=\"1\" class=\"dataframe\">\n",
       "  <thead>\n",
       "    <tr style=\"text-align: right;\">\n",
       "      <th></th>\n",
       "      <th>about</th>\n",
       "      <th>all</th>\n",
       "      <th>also</th>\n",
       "      <th>done</th>\n",
       "      <th>for</th>\n",
       "      <th>good</th>\n",
       "      <th>have</th>\n",
       "      <th>it</th>\n",
       "      <th>know</th>\n",
       "      <th>of</th>\n",
       "      <th>practice</th>\n",
       "      <th>they</th>\n",
       "      <th>to</th>\n",
       "      <th>us</th>\n",
       "      <th>was</th>\n",
       "    </tr>\n",
       "  </thead>\n",
       "  <tbody>\n",
       "    <tr>\n",
       "      <th>0</th>\n",
       "      <td>0</td>\n",
       "      <td>0</td>\n",
       "      <td>0</td>\n",
       "      <td>0</td>\n",
       "      <td>1</td>\n",
       "      <td>1</td>\n",
       "      <td>0</td>\n",
       "      <td>1</td>\n",
       "      <td>0</td>\n",
       "      <td>0</td>\n",
       "      <td>1</td>\n",
       "      <td>0</td>\n",
       "      <td>0</td>\n",
       "      <td>1</td>\n",
       "      <td>1</td>\n",
       "    </tr>\n",
       "    <tr>\n",
       "      <th>1</th>\n",
       "      <td>1</td>\n",
       "      <td>0</td>\n",
       "      <td>1</td>\n",
       "      <td>0</td>\n",
       "      <td>0</td>\n",
       "      <td>1</td>\n",
       "      <td>0</td>\n",
       "      <td>2</td>\n",
       "      <td>1</td>\n",
       "      <td>0</td>\n",
       "      <td>0</td>\n",
       "      <td>0</td>\n",
       "      <td>1</td>\n",
       "      <td>0</td>\n",
       "      <td>1</td>\n",
       "    </tr>\n",
       "    <tr>\n",
       "      <th>2</th>\n",
       "      <td>0</td>\n",
       "      <td>1</td>\n",
       "      <td>0</td>\n",
       "      <td>1</td>\n",
       "      <td>1</td>\n",
       "      <td>1</td>\n",
       "      <td>1</td>\n",
       "      <td>0</td>\n",
       "      <td>0</td>\n",
       "      <td>1</td>\n",
       "      <td>1</td>\n",
       "      <td>1</td>\n",
       "      <td>0</td>\n",
       "      <td>1</td>\n",
       "      <td>0</td>\n",
       "    </tr>\n",
       "  </tbody>\n",
       "</table>\n",
       "</div>"
      ],
      "text/plain": [
       "   about  all  also  done  for  good  have  it  know  of  practice  they  to  \\\n",
       "0      0    0     0     0    1     1     0   1     0   0         1     0   0   \n",
       "1      1    0     1     0    0     1     0   2     1   0         0     0   1   \n",
       "2      0    1     0     1    1     1     1   0     0   1         1     1   0   \n",
       "\n",
       "   us  was  \n",
       "0   1    1  \n",
       "1   0    1  \n",
       "2   1    0  "
      ]
     },
     "execution_count": 29,
     "metadata": {},
     "output_type": "execute_result"
    }
   ],
   "source": [
    "df"
   ]
  },
  {
   "cell_type": "markdown",
   "id": "2ae0aacf",
   "metadata": {},
   "source": [
    "N-Grams"
   ]
  },
  {
   "cell_type": "code",
   "execution_count": 30,
   "id": "b70ba5bc",
   "metadata": {},
   "outputs": [],
   "source": [
    "cv = CountVectorizer(ngram_range = (1, 2))                                  # Creating the object of the count vectorizer"
   ]
  },
  {
   "cell_type": "code",
   "execution_count": 31,
   "id": "9216e69e",
   "metadata": {},
   "outputs": [],
   "source": [
    "mydata = cv.fit_transform([sentence_1, sentence_2, sentence_3])             # Applying the BOW- N-Gram method"
   ]
  },
  {
   "cell_type": "code",
   "execution_count": 32,
   "id": "6e2785bd",
   "metadata": {},
   "outputs": [
    {
     "data": {
      "text/plain": [
       "array(['about', 'about it', 'all', 'all of', 'also', 'also good', 'done',\n",
       "       'done good', 'for', 'for all', 'for us', 'good', 'good practice',\n",
       "       'good to', 'have', 'have done', 'it', 'it was', 'know',\n",
       "       'know about', 'of', 'of us', 'practice', 'practice for', 'they',\n",
       "       'they have', 'to', 'to know', 'us', 'us they', 'was', 'was also',\n",
       "       'was good'], dtype=object)"
      ]
     },
     "execution_count": 32,
     "metadata": {},
     "output_type": "execute_result"
    }
   ],
   "source": [
    "cv.get_feature_names_out()"
   ]
  },
  {
   "cell_type": "code",
   "execution_count": 33,
   "id": "fd12c4f3",
   "metadata": {},
   "outputs": [],
   "source": [
    "df = pd.DataFrame(data = mydata.toarray(), columns = cv.get_feature_names_out())"
   ]
  },
  {
   "cell_type": "code",
   "execution_count": 34,
   "id": "cfca8421",
   "metadata": {},
   "outputs": [
    {
     "data": {
      "text/html": [
       "<div>\n",
       "<style scoped>\n",
       "    .dataframe tbody tr th:only-of-type {\n",
       "        vertical-align: middle;\n",
       "    }\n",
       "\n",
       "    .dataframe tbody tr th {\n",
       "        vertical-align: top;\n",
       "    }\n",
       "\n",
       "    .dataframe thead th {\n",
       "        text-align: right;\n",
       "    }\n",
       "</style>\n",
       "<table border=\"1\" class=\"dataframe\">\n",
       "  <thead>\n",
       "    <tr style=\"text-align: right;\">\n",
       "      <th></th>\n",
       "      <th>about</th>\n",
       "      <th>about it</th>\n",
       "      <th>all</th>\n",
       "      <th>all of</th>\n",
       "      <th>also</th>\n",
       "      <th>also good</th>\n",
       "      <th>done</th>\n",
       "      <th>done good</th>\n",
       "      <th>for</th>\n",
       "      <th>for all</th>\n",
       "      <th>...</th>\n",
       "      <th>practice for</th>\n",
       "      <th>they</th>\n",
       "      <th>they have</th>\n",
       "      <th>to</th>\n",
       "      <th>to know</th>\n",
       "      <th>us</th>\n",
       "      <th>us they</th>\n",
       "      <th>was</th>\n",
       "      <th>was also</th>\n",
       "      <th>was good</th>\n",
       "    </tr>\n",
       "  </thead>\n",
       "  <tbody>\n",
       "    <tr>\n",
       "      <th>0</th>\n",
       "      <td>0</td>\n",
       "      <td>0</td>\n",
       "      <td>0</td>\n",
       "      <td>0</td>\n",
       "      <td>0</td>\n",
       "      <td>0</td>\n",
       "      <td>0</td>\n",
       "      <td>0</td>\n",
       "      <td>1</td>\n",
       "      <td>0</td>\n",
       "      <td>...</td>\n",
       "      <td>1</td>\n",
       "      <td>0</td>\n",
       "      <td>0</td>\n",
       "      <td>0</td>\n",
       "      <td>0</td>\n",
       "      <td>1</td>\n",
       "      <td>0</td>\n",
       "      <td>1</td>\n",
       "      <td>0</td>\n",
       "      <td>1</td>\n",
       "    </tr>\n",
       "    <tr>\n",
       "      <th>1</th>\n",
       "      <td>1</td>\n",
       "      <td>1</td>\n",
       "      <td>0</td>\n",
       "      <td>0</td>\n",
       "      <td>1</td>\n",
       "      <td>1</td>\n",
       "      <td>0</td>\n",
       "      <td>0</td>\n",
       "      <td>0</td>\n",
       "      <td>0</td>\n",
       "      <td>...</td>\n",
       "      <td>0</td>\n",
       "      <td>0</td>\n",
       "      <td>0</td>\n",
       "      <td>1</td>\n",
       "      <td>1</td>\n",
       "      <td>0</td>\n",
       "      <td>0</td>\n",
       "      <td>1</td>\n",
       "      <td>1</td>\n",
       "      <td>0</td>\n",
       "    </tr>\n",
       "    <tr>\n",
       "      <th>2</th>\n",
       "      <td>0</td>\n",
       "      <td>0</td>\n",
       "      <td>1</td>\n",
       "      <td>1</td>\n",
       "      <td>0</td>\n",
       "      <td>0</td>\n",
       "      <td>1</td>\n",
       "      <td>1</td>\n",
       "      <td>1</td>\n",
       "      <td>1</td>\n",
       "      <td>...</td>\n",
       "      <td>0</td>\n",
       "      <td>1</td>\n",
       "      <td>1</td>\n",
       "      <td>0</td>\n",
       "      <td>0</td>\n",
       "      <td>1</td>\n",
       "      <td>1</td>\n",
       "      <td>0</td>\n",
       "      <td>0</td>\n",
       "      <td>0</td>\n",
       "    </tr>\n",
       "  </tbody>\n",
       "</table>\n",
       "<p>3 rows × 33 columns</p>\n",
       "</div>"
      ],
      "text/plain": [
       "   about  about it  all  all of  also  also good  done  done good  for  \\\n",
       "0      0         0    0       0     0          0     0          0    1   \n",
       "1      1         1    0       0     1          1     0          0    0   \n",
       "2      0         0    1       1     0          0     1          1    1   \n",
       "\n",
       "   for all  ...  practice for  they  they have  to  to know  us  us they  was  \\\n",
       "0        0  ...             1     0          0   0        0   1        0    1   \n",
       "1        0  ...             0     0          0   1        1   0        0    1   \n",
       "2        1  ...             0     1          1   0        0   1        1    0   \n",
       "\n",
       "   was also  was good  \n",
       "0         0         1  \n",
       "1         1         0  \n",
       "2         0         0  \n",
       "\n",
       "[3 rows x 33 columns]"
      ]
     },
     "execution_count": 34,
     "metadata": {},
     "output_type": "execute_result"
    }
   ],
   "source": [
    "df"
   ]
  },
  {
   "cell_type": "markdown",
   "id": "ebfef9d8",
   "metadata": {},
   "source": [
    "TF*IDF Vectorizer"
   ]
  },
  {
   "cell_type": "code",
   "execution_count": 35,
   "id": "583c39b1",
   "metadata": {},
   "outputs": [],
   "source": [
    "from sklearn.feature_extraction.text import TfidfVectorizer                 # Importing the class Tfidf Vectorizer"
   ]
  },
  {
   "cell_type": "code",
   "execution_count": 37,
   "id": "42862c9d",
   "metadata": {},
   "outputs": [],
   "source": [
    "tfidf = TfidfVectorizer()                                                   # Creating the object of the vectorizer"
   ]
  },
  {
   "cell_type": "code",
   "execution_count": 38,
   "id": "773cc7b0",
   "metadata": {},
   "outputs": [],
   "source": [
    "new_data = tfidf.fit_transform([sentence_1, sentence_2, sentence_3])        # Applying the TF*IDF Vectorizer method"
   ]
  },
  {
   "cell_type": "code",
   "execution_count": 39,
   "id": "5851dc6f",
   "metadata": {},
   "outputs": [
    {
     "data": {
      "text/plain": [
       "array([[0.        , 0.        , 0.        , 0.        , 0.42246056,\n",
       "        0.32807831, 0.        , 0.42246056, 0.        , 0.        ,\n",
       "        0.42246056, 0.        , 0.        , 0.42246056, 0.42246056],\n",
       "       [0.37162591, 0.        , 0.37162591, 0.        , 0.        ,\n",
       "        0.21948825, 0.        , 0.56526217, 0.37162591, 0.        ,\n",
       "        0.        , 0.        , 0.37162591, 0.        , 0.28263108],\n",
       "       [0.        , 0.37571621, 0.        , 0.37571621, 0.28574186,\n",
       "        0.22190405, 0.37571621, 0.        , 0.        , 0.37571621,\n",
       "        0.28574186, 0.37571621, 0.        , 0.28574186, 0.        ]])"
      ]
     },
     "execution_count": 39,
     "metadata": {},
     "output_type": "execute_result"
    }
   ],
   "source": [
    "new_data.toarray()"
   ]
  },
  {
   "cell_type": "code",
   "execution_count": 40,
   "id": "3258cb43",
   "metadata": {},
   "outputs": [
    {
     "data": {
      "text/plain": [
       "array(['about', 'all', 'also', 'done', 'for', 'good', 'have', 'it',\n",
       "       'know', 'of', 'practice', 'they', 'to', 'us', 'was'], dtype=object)"
      ]
     },
     "execution_count": 40,
     "metadata": {},
     "output_type": "execute_result"
    }
   ],
   "source": [
    "tfidf.get_feature_names_out()"
   ]
  },
  {
   "cell_type": "code",
   "execution_count": 41,
   "id": "437b018c",
   "metadata": {},
   "outputs": [],
   "source": [
    "df = pd.DataFrame(data = new_data.toarray(), columns = tfidf.get_feature_names_out())"
   ]
  },
  {
   "cell_type": "code",
   "execution_count": 42,
   "id": "7e149454",
   "metadata": {},
   "outputs": [
    {
     "data": {
      "text/html": [
       "<div>\n",
       "<style scoped>\n",
       "    .dataframe tbody tr th:only-of-type {\n",
       "        vertical-align: middle;\n",
       "    }\n",
       "\n",
       "    .dataframe tbody tr th {\n",
       "        vertical-align: top;\n",
       "    }\n",
       "\n",
       "    .dataframe thead th {\n",
       "        text-align: right;\n",
       "    }\n",
       "</style>\n",
       "<table border=\"1\" class=\"dataframe\">\n",
       "  <thead>\n",
       "    <tr style=\"text-align: right;\">\n",
       "      <th></th>\n",
       "      <th>about</th>\n",
       "      <th>all</th>\n",
       "      <th>also</th>\n",
       "      <th>done</th>\n",
       "      <th>for</th>\n",
       "      <th>good</th>\n",
       "      <th>have</th>\n",
       "      <th>it</th>\n",
       "      <th>know</th>\n",
       "      <th>of</th>\n",
       "      <th>practice</th>\n",
       "      <th>they</th>\n",
       "      <th>to</th>\n",
       "      <th>us</th>\n",
       "      <th>was</th>\n",
       "    </tr>\n",
       "  </thead>\n",
       "  <tbody>\n",
       "    <tr>\n",
       "      <th>0</th>\n",
       "      <td>0.000000</td>\n",
       "      <td>0.000000</td>\n",
       "      <td>0.000000</td>\n",
       "      <td>0.000000</td>\n",
       "      <td>0.422461</td>\n",
       "      <td>0.328078</td>\n",
       "      <td>0.000000</td>\n",
       "      <td>0.422461</td>\n",
       "      <td>0.000000</td>\n",
       "      <td>0.000000</td>\n",
       "      <td>0.422461</td>\n",
       "      <td>0.000000</td>\n",
       "      <td>0.000000</td>\n",
       "      <td>0.422461</td>\n",
       "      <td>0.422461</td>\n",
       "    </tr>\n",
       "    <tr>\n",
       "      <th>1</th>\n",
       "      <td>0.371626</td>\n",
       "      <td>0.000000</td>\n",
       "      <td>0.371626</td>\n",
       "      <td>0.000000</td>\n",
       "      <td>0.000000</td>\n",
       "      <td>0.219488</td>\n",
       "      <td>0.000000</td>\n",
       "      <td>0.565262</td>\n",
       "      <td>0.371626</td>\n",
       "      <td>0.000000</td>\n",
       "      <td>0.000000</td>\n",
       "      <td>0.000000</td>\n",
       "      <td>0.371626</td>\n",
       "      <td>0.000000</td>\n",
       "      <td>0.282631</td>\n",
       "    </tr>\n",
       "    <tr>\n",
       "      <th>2</th>\n",
       "      <td>0.000000</td>\n",
       "      <td>0.375716</td>\n",
       "      <td>0.000000</td>\n",
       "      <td>0.375716</td>\n",
       "      <td>0.285742</td>\n",
       "      <td>0.221904</td>\n",
       "      <td>0.375716</td>\n",
       "      <td>0.000000</td>\n",
       "      <td>0.000000</td>\n",
       "      <td>0.375716</td>\n",
       "      <td>0.285742</td>\n",
       "      <td>0.375716</td>\n",
       "      <td>0.000000</td>\n",
       "      <td>0.285742</td>\n",
       "      <td>0.000000</td>\n",
       "    </tr>\n",
       "  </tbody>\n",
       "</table>\n",
       "</div>"
      ],
      "text/plain": [
       "      about       all      also      done       for      good      have  \\\n",
       "0  0.000000  0.000000  0.000000  0.000000  0.422461  0.328078  0.000000   \n",
       "1  0.371626  0.000000  0.371626  0.000000  0.000000  0.219488  0.000000   \n",
       "2  0.000000  0.375716  0.000000  0.375716  0.285742  0.221904  0.375716   \n",
       "\n",
       "         it      know        of  practice      they        to        us  \\\n",
       "0  0.422461  0.000000  0.000000  0.422461  0.000000  0.000000  0.422461   \n",
       "1  0.565262  0.371626  0.000000  0.000000  0.000000  0.371626  0.000000   \n",
       "2  0.000000  0.000000  0.375716  0.285742  0.375716  0.000000  0.285742   \n",
       "\n",
       "        was  \n",
       "0  0.422461  \n",
       "1  0.282631  \n",
       "2  0.000000  "
      ]
     },
     "execution_count": 42,
     "metadata": {},
     "output_type": "execute_result"
    }
   ],
   "source": [
    "df"
   ]
  },
  {
   "cell_type": "code",
   "execution_count": null,
   "id": "441af26a",
   "metadata": {},
   "outputs": [],
   "source": []
  }
 ],
 "metadata": {
  "kernelspec": {
   "display_name": "Python 3 (ipykernel)",
   "language": "python",
   "name": "python3"
  },
  "language_info": {
   "codemirror_mode": {
    "name": "ipython",
    "version": 3
   },
   "file_extension": ".py",
   "mimetype": "text/x-python",
   "name": "python",
   "nbconvert_exporter": "python",
   "pygments_lexer": "ipython3",
   "version": "3.9.12"
  }
 },
 "nbformat": 4,
 "nbformat_minor": 5
}
